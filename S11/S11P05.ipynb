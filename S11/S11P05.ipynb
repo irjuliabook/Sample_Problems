{
 "cells": [
  {
   "cell_type": "code",
   "execution_count": 6,
   "id": "05686d05-b77e-4aa2-90be-71511ef3fd0c",
   "metadata": {},
   "outputs": [],
   "source": [
    "using Plots"
   ]
  },
  {
   "cell_type": "code",
   "execution_count": 7,
   "id": "e8723a21-f974-4c98-96e7-1e9a8b7aa89c",
   "metadata": {},
   "outputs": [],
   "source": [
    "f1(x) = x;\n",
    "f2(x) = sin(x);\n",
    "f3(x) = x + sin(x);"
   ]
  },
  {
   "cell_type": "code",
   "execution_count": 8,
   "id": "1809ea03-89ce-4bbd-b07f-9d8f52a403c9",
   "metadata": {},
   "outputs": [],
   "source": [
    "x1 = Plots.plot(f1, 0:0.1:100, color=\"black\", label=\"x\", title=\"y = x\", xlabel=\"x [m]\", ylabel=\"y[m]\");"
   ]
  },
  {
   "cell_type": "code",
   "execution_count": 9,
   "id": "7fe9f6b7-1d1b-4946-9eb2-f642bddd8351",
   "metadata": {},
   "outputs": [
    {
     "data": {
      "text/plain": [
       "\"C:\\\\Users\\\\asus\\\\Julia Book IR\\\\S11\\\\x1.png\""
      ]
     },
     "execution_count": 9,
     "metadata": {},
     "output_type": "execute_result"
    }
   ],
   "source": [
    "savefig(\"x1.png\")"
   ]
  },
  {
   "cell_type": "code",
   "execution_count": 10,
   "id": "85a9bc9a-7521-47aa-8a85-422c41b8cc07",
   "metadata": {},
   "outputs": [],
   "source": [
    "x2 = Plots.plot(f2, 0:0.1:100, color = \"black\", label=\"sin(x)\", title=\"y = sin(x)\", xlabel=\"x [m]\", ylabel=\"y[m]\");"
   ]
  },
  {
   "cell_type": "code",
   "execution_count": 11,
   "id": "d71d0a0e-943d-4372-9cba-10766cff9467",
   "metadata": {},
   "outputs": [
    {
     "data": {
      "text/plain": [
       "\"C:\\\\Users\\\\asus\\\\Julia Book IR\\\\S11\\\\x2.png\""
      ]
     },
     "execution_count": 11,
     "metadata": {},
     "output_type": "execute_result"
    }
   ],
   "source": [
    "savefig(\"x2.png\")"
   ]
  },
  {
   "cell_type": "code",
   "execution_count": 12,
   "id": "4da92c98-fa11-4641-b041-df07a150d2fd",
   "metadata": {},
   "outputs": [],
   "source": [
    "x3 = Plots.plot(f3, 0:0.1:100, color = \"black\", label=\"x + sin(x)\", title=\"y = x + sin(x)\", xlabel=\"x [m]\", ylabel=\"y[m]\");"
   ]
  },
  {
   "cell_type": "code",
   "execution_count": 13,
   "id": "76f5ab6f-fa34-4cd4-ac74-0e59811070e7",
   "metadata": {},
   "outputs": [
    {
     "data": {
      "text/plain": [
       "\"C:\\\\Users\\\\asus\\\\Julia Book IR\\\\S11\\\\x3.png\""
      ]
     },
     "execution_count": 13,
     "metadata": {},
     "output_type": "execute_result"
    }
   ],
   "source": [
    "savefig(\"x3.png\")"
   ]
  },
  {
   "cell_type": "code",
   "execution_count": null,
   "id": "6f2b4eac-a9d5-465f-ac95-db4baba0f7dc",
   "metadata": {},
   "outputs": [],
   "source": []
  }
 ],
 "metadata": {
  "kernelspec": {
   "display_name": "Julia 1.9.4",
   "language": "julia",
   "name": "julia-1.9"
  },
  "language_info": {
   "file_extension": ".jl",
   "mimetype": "application/julia",
   "name": "julia",
   "version": "1.9.4"
  }
 },
 "nbformat": 4,
 "nbformat_minor": 5
}
