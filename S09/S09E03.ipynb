{
 "cells": [
  {
   "cell_type": "code",
   "execution_count": 22,
   "id": "25e5388a-a199-483d-ad4e-8952ea32ca6f",
   "metadata": {},
   "outputs": [],
   "source": [
    "List = [(1,2), (3,5), (7,3)];"
   ]
  },
  {
   "cell_type": "code",
   "execution_count": 23,
   "id": "58cb0c7c-e23b-4f62-af1b-3a0aa1612022",
   "metadata": {},
   "outputs": [],
   "source": [
    "function CHECK(LIST)\n",
    "    for v in LIST\n",
    "        if v[1] >= 2*v[2]\n",
    "            error(\"The condition(a < 2*b) has not occurred.\")\n",
    "        end\n",
    "    end\n",
    "    return \"jhgfdfghjk\"\n",
    "end;"
   ]
  },
  {
   "cell_type": "code",
   "execution_count": 24,
   "id": "ff1b24dc-545f-41d0-b3c8-60004ae8dd50",
   "metadata": {},
   "outputs": [
    {
     "ename": "LoadError",
     "evalue": "The condition(a < 2*b) has not occurred.",
     "output_type": "error",
     "traceback": [
      "The condition(a < 2*b) has not occurred.",
      "",
      "Stacktrace:",
      " [1] error(s::String)",
      "   @ Base .\\error.jl:35",
      " [2] CHECK(LIST::Vector{Tuple{Int64, Int64}})",
      "   @ Main .\\In[23]:4",
      " [3] top-level scope",
      "   @ In[24]:1"
     ]
    }
   ],
   "source": [
    "CHECK(List)"
   ]
  },
  {
   "cell_type": "code",
   "execution_count": 26,
   "id": "115d4ac5-4e26-4242-83f6-90e388171189",
   "metadata": {},
   "outputs": [
    {
     "name": "stdout",
     "output_type": "stream",
     "text": [
      "ErrorException(\"The condition(a < 2*b) has not occurred.\")\n",
      "[(1, 2), (3, 5)]\n"
     ]
    },
    {
     "data": {
      "text/plain": [
       "2-element Vector{Tuple{Int64, Int64}}:\n",
       " (1, 2)\n",
       " (3, 5)"
      ]
     },
     "execution_count": 26,
     "metadata": {},
     "output_type": "execute_result"
    }
   ],
   "source": [
    "try\n",
    "      CHECK(List)\n",
    "catch e\n",
    "      println(e)\n",
    "      new = []\n",
    "      for v in List\n",
    "            if v[1] >= 2*v[2]\n",
    "                  continue\n",
    "            end\n",
    "            new = [new..., v]\n",
    "      end\n",
    "      List = new\n",
    "else\n",
    "      println(\"No Error in input List\")\n",
    "finally\n",
    "      println(List)\n",
    "end"
   ]
  },
  {
   "cell_type": "code",
   "execution_count": null,
   "id": "12dc57c3-02fe-40d0-b17c-fb249105f5a7",
   "metadata": {},
   "outputs": [],
   "source": []
  }
 ],
 "metadata": {
  "kernelspec": {
   "display_name": "Julia 1.9.4",
   "language": "julia",
   "name": "julia-1.9"
  },
  "language_info": {
   "file_extension": ".jl",
   "mimetype": "application/julia",
   "name": "julia",
   "version": "1.9.4"
  }
 },
 "nbformat": 4,
 "nbformat_minor": 5
}
