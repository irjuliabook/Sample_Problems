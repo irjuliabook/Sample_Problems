{
 "cells": [
  {
   "cell_type": "code",
   "execution_count": 3,
   "id": "cc5b1bff-9a5c-4896-b1fc-5839e407e4f5",
   "metadata": {},
   "outputs": [
    {
     "ename": "LoadError",
     "evalue": "syntax: variable \"x\" declared both local and global",
     "output_type": "error",
     "traceback": [
      "syntax: variable \"x\" declared both local and global",
      "",
      "Stacktrace:",
      " [1] top-level scope",
      "   @ In[3]:1"
     ]
    }
   ],
   "source": [
    "for i=1:10\n",
    "    x = 1\n",
    "    println(x)\n",
    "    for j = 1:10\n",
    "        if j==15\n",
    "            global x\n",
    "            x = 0\n",
    "            println(\"inin x\",x)\n",
    "            continue\n",
    "        end\n",
    "        local x\n",
    "        println(\"local x:\",x)\n",
    "        x = x +j\n",
    "    end\n",
    "end"
   ]
  },
  {
   "cell_type": "code",
   "execution_count": null,
   "id": "14d7cfa8-29e3-476f-9ae1-21d96e60b070",
   "metadata": {},
   "outputs": [],
   "source": []
  }
 ],
 "metadata": {
  "kernelspec": {
   "display_name": "Julia 1.9.4",
   "language": "julia",
   "name": "julia-1.9"
  },
  "language_info": {
   "file_extension": ".jl",
   "mimetype": "application/julia",
   "name": "julia",
   "version": "1.9.4"
  }
 },
 "nbformat": 4,
 "nbformat_minor": 5
}
