{
 "cells": [
  {
   "cell_type": "code",
   "execution_count": 13,
   "id": "25e5388a-a199-483d-ad4e-8952ea32ca6f",
   "metadata": {},
   "outputs": [
    {
     "data": {
      "text/plain": [
       "Decor (generic function with 1 method)"
      ]
     },
     "execution_count": 13,
     "metadata": {},
     "output_type": "execute_result"
    }
   ],
   "source": [
    "function Decor(func)\n",
    "    function inner(input...)\n",
    "        try\n",
    "            return func(input...)\n",
    "        catch e\n",
    "            print(\"Inputs: \", input)\n",
    "            return -1\n",
    "        end\n",
    "    end\n",
    "    return inner\n",
    "end"
   ]
  },
  {
   "cell_type": "code",
   "execution_count": 14,
   "id": "f3fda6eb-2315-4001-b80d-0919bdb7aa3d",
   "metadata": {},
   "outputs": [
    {
     "data": {
      "text/plain": [
       "sqrt_div (generic function with 1 method)"
      ]
     },
     "execution_count": 14,
     "metadata": {},
     "output_type": "execute_result"
    }
   ],
   "source": [
    "function sqrt_div(input...)\n",
    "    s = sqrt(sum(input))\n",
    "    println(\"s = \", s)\n",
    "    result = []\n",
    "    for v in input\n",
    "        result = [result..., v/s]\n",
    "    end\n",
    "    return result\n",
    "end"
   ]
  },
  {
   "cell_type": "code",
   "execution_count": 15,
   "id": "56be010e-6948-449f-a61a-5597286f2aa8",
   "metadata": {},
   "outputs": [
    {
     "data": {
      "text/plain": [
       "(::var\"#inner#5\"{typeof(sqrt_div)}) (generic function with 1 method)"
      ]
     },
     "execution_count": 15,
     "metadata": {},
     "output_type": "execute_result"
    }
   ],
   "source": [
    "new_func = Decor(sqrt_div)"
   ]
  },
  {
   "cell_type": "code",
   "execution_count": 16,
   "id": "d1853977-8e5b-4a6b-b839-7b56b090bfe4",
   "metadata": {},
   "outputs": [
    {
     "name": "stdout",
     "output_type": "stream",
     "text": [
      "Inputs: (-5, 0, 3)"
     ]
    },
    {
     "data": {
      "text/plain": [
       "-1"
      ]
     },
     "execution_count": 16,
     "metadata": {},
     "output_type": "execute_result"
    }
   ],
   "source": [
    "new_func(-5, 0, 3)"
   ]
  },
  {
   "cell_type": "code",
   "execution_count": 17,
   "id": "165a1799-24ee-4998-9710-97e595a399bd",
   "metadata": {},
   "outputs": [
    {
     "name": "stdout",
     "output_type": "stream",
     "text": [
      "s = 2.23606797749979\n"
     ]
    },
    {
     "data": {
      "text/plain": [
       "3-element Vector{Float64}:\n",
       " -2.23606797749979\n",
       "  0.0\n",
       "  4.47213595499958"
      ]
     },
     "execution_count": 17,
     "metadata": {},
     "output_type": "execute_result"
    }
   ],
   "source": [
    "new_func(-5, 0, 10)"
   ]
  },
  {
   "cell_type": "code",
   "execution_count": 18,
   "id": "aaf81294-7ef4-4172-9074-2ba502880cdb",
   "metadata": {},
   "outputs": [
    {
     "name": "stdout",
     "output_type": "stream",
     "text": [
      "s = 2.23606797749979\n"
     ]
    },
    {
     "data": {
      "text/plain": [
       "3-element Vector{Float64}:\n",
       " -2.23606797749979\n",
       "  0.0\n",
       "  4.47213595499958"
      ]
     },
     "execution_count": 18,
     "metadata": {},
     "output_type": "execute_result"
    }
   ],
   "source": [
    "sqrt_div(-5,0,10)"
   ]
  },
  {
   "cell_type": "code",
   "execution_count": 21,
   "id": "eb1855f7-7dba-4087-8e77-1e3703b0bd7b",
   "metadata": {},
   "outputs": [
    {
     "ename": "LoadError",
     "evalue": "DomainError with -2.0:\nsqrt will only return a complex result if called with a complex argument. Try sqrt(Complex(x)).",
     "output_type": "error",
     "traceback": [
      "DomainError with -2.0:\nsqrt will only return a complex result if called with a complex argument. Try sqrt(Complex(x)).",
      "",
      "Stacktrace:",
      " [1] throw_complex_domainerror(f::Symbol, x::Float64)",
      "   @ Base.Math .\\math.jl:33",
      " [2] sqrt",
      "   @ .\\math.jl:677 [inlined]",
      " [3] sqrt(x::Int64)",
      "   @ Base.Math .\\math.jl:1491",
      " [4] sqrt_div(::Int64, ::Vararg{Int64})",
      "   @ Main .\\In[14]:2",
      " [5] top-level scope",
      "   @ In[21]:1"
     ]
    }
   ],
   "source": [
    "sqrt_div(-5,0,3)"
   ]
  },
  {
   "cell_type": "code",
   "execution_count": null,
   "id": "1794dcbb-7196-47c5-8471-442ecc343bd7",
   "metadata": {},
   "outputs": [],
   "source": []
  }
 ],
 "metadata": {
  "kernelspec": {
   "display_name": "Julia 1.9.4",
   "language": "julia",
   "name": "julia-1.9"
  },
  "language_info": {
   "file_extension": ".jl",
   "mimetype": "application/julia",
   "name": "julia",
   "version": "1.9.4"
  }
 },
 "nbformat": 4,
 "nbformat_minor": 5
}
