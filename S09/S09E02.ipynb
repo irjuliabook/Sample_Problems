{
 "cells": [
  {
   "cell_type": "code",
   "execution_count": 1,
   "id": "84c36cc3-1e5b-4f76-95a6-3020f5c74131",
   "metadata": {},
   "outputs": [],
   "source": [
    "List = [(1,2), (3,5), (7,3)];"
   ]
  },
  {
   "cell_type": "code",
   "execution_count": 4,
   "id": "3661c5f7-74bb-452e-9a0c-aa4e65106a0a",
   "metadata": {},
   "outputs": [],
   "source": [
    "function CHECK(LIST)\n",
    "    for v in LIST\n",
    "        if v[1] >= 2*v[2]\n",
    "            error(\"The condition(a < 2*b) has not occurred.\")\n",
    "        end\n",
    "    end\n",
    "    return LIST\n",
    "end;"
   ]
  },
  {
   "cell_type": "code",
   "execution_count": 5,
   "id": "c576c0a6-75a1-4eb5-ad67-78472bc69e17",
   "metadata": {},
   "outputs": [
    {
     "ename": "LoadError",
     "evalue": "The condition(a < 2*b) has not occurred.",
     "output_type": "error",
     "traceback": [
      "The condition(a < 2*b) has not occurred.",
      "",
      "Stacktrace:",
      " [1] error(s::String)",
      "   @ Base .\\error.jl:35",
      " [2] CHECK(LIST::Vector{Tuple{Int64, Int64}})",
      "   @ Main .\\In[4]:4",
      " [3] top-level scope",
      "   @ In[5]:1"
     ]
    }
   ],
   "source": [
    "CHECK(List)"
   ]
  },
  {
   "cell_type": "code",
   "execution_count": null,
   "id": "25a37d80-0c3c-438e-92fc-ea92ceb9253c",
   "metadata": {},
   "outputs": [],
   "source": []
  }
 ],
 "metadata": {
  "kernelspec": {
   "display_name": "Julia 1.9.4",
   "language": "julia",
   "name": "julia-1.9"
  },
  "language_info": {
   "file_extension": ".jl",
   "mimetype": "application/julia",
   "name": "julia",
   "version": "1.9.4"
  }
 },
 "nbformat": 4,
 "nbformat_minor": 5
}
