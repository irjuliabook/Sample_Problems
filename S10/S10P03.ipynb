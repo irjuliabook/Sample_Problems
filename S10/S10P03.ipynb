{
 "cells": [
  {
   "cell_type": "code",
   "execution_count": 1,
   "id": "25e5388a-a199-483d-ad4e-8952ea32ca6f",
   "metadata": {},
   "outputs": [],
   "source": [
    "using LinearAlgebra"
   ]
  },
  {
   "cell_type": "code",
   "execution_count": 4,
   "id": "2d53a2e7-b01f-4aeb-9a1a-1dcfe39592d5",
   "metadata": {},
   "outputs": [],
   "source": [
    "a = [1 2 5\n",
    "     5 6 1\n",
    "     4 4 1 ];"
   ]
  },
  {
   "cell_type": "code",
   "execution_count": 6,
   "id": "4cc92a0d-3a99-4b15-94ed-c3587f57a341",
   "metadata": {},
   "outputs": [
    {
     "data": {
      "text/plain": [
       "-2.6701075659875606"
      ]
     },
     "execution_count": 6,
     "metadata": {},
     "output_type": "execute_result"
    }
   ],
   "source": [
    "LinearAlgebra.eigmin(a)"
   ]
  },
  {
   "cell_type": "code",
   "execution_count": 7,
   "id": "ca655edc-5676-44bd-bb44-3beac50da21d",
   "metadata": {},
   "outputs": [
    {
     "data": {
      "text/plain": [
       "9.914624060387919"
      ]
     },
     "execution_count": 7,
     "metadata": {},
     "output_type": "execute_result"
    }
   ],
   "source": [
    "LinearAlgebra.eigmax(a)"
   ]
  },
  {
   "cell_type": "code",
   "execution_count": null,
   "id": "53bf468e-2a3f-40d9-a770-6b4e78aa47ba",
   "metadata": {},
   "outputs": [],
   "source": []
  }
 ],
 "metadata": {
  "kernelspec": {
   "display_name": "Julia 1.9.4",
   "language": "julia",
   "name": "julia-1.9"
  },
  "language_info": {
   "file_extension": ".jl",
   "mimetype": "application/julia",
   "name": "julia",
   "version": "1.9.4"
  }
 },
 "nbformat": 4,
 "nbformat_minor": 5
}
