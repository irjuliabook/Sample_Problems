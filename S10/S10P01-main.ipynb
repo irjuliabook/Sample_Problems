{
 "cells": [
  {
   "cell_type": "code",
   "execution_count": 1,
   "id": "ee1df544-64b4-4632-adad-7575a7244ac6",
   "metadata": {},
   "outputs": [
    {
     "data": {
      "text/plain": [
       "Main.Product"
      ]
     },
     "execution_count": 1,
     "metadata": {},
     "output_type": "execute_result"
    }
   ],
   "source": [
    "include(\"C:\\\\Users\\\\asus\\\\Julia Book IR\\\\S10\\\\S10P01-pakages.jl\")"
   ]
  },
  {
   "cell_type": "code",
   "execution_count": 2,
   "id": "e231d673-ddef-4e8e-8326-1da8a7eb0c6d",
   "metadata": {},
   "outputs": [],
   "source": [
    "using .Normal"
   ]
  },
  {
   "cell_type": "code",
   "execution_count": 3,
   "id": "2f9ced4c-e0d3-4201-b93d-7110503dd9a7",
   "metadata": {},
   "outputs": [],
   "source": [
    "using .Product"
   ]
  },
  {
   "cell_type": "code",
   "execution_count": 4,
   "id": "39820ff4-71d6-47b5-97b3-55beb5b3ff16",
   "metadata": {},
   "outputs": [],
   "source": [
    "a = (1,2,3,4,5);\n",
    "b = (6,7,8,9,10);"
   ]
  },
  {
   "cell_type": "code",
   "execution_count": 5,
   "id": "1b932a3f-c53e-4018-8a7c-1e39b1b81636",
   "metadata": {},
   "outputs": [
    {
     "data": {
      "text/plain": [
       "5-element Vector{Float64}:\n",
       " 0.13483997249264842\n",
       " 0.26967994498529685\n",
       " 0.40451991747794525\n",
       " 0.5393598899705937\n",
       " 0.674199862463242"
      ]
     },
     "execution_count": 5,
     "metadata": {},
     "output_type": "execute_result"
    }
   ],
   "source": [
    "Normal.normaler(a)"
   ]
  },
  {
   "cell_type": "code",
   "execution_count": 6,
   "id": "42006af7-7106-43cb-82db-fc5e60b58963",
   "metadata": {},
   "outputs": [
    {
     "data": {
      "text/plain": [
       "5-element Vector{Int64}:\n",
       "  6\n",
       " 14\n",
       " 24\n",
       " 36\n",
       " 50"
      ]
     },
     "execution_count": 6,
     "metadata": {},
     "output_type": "execute_result"
    }
   ],
   "source": [
    "Product.inner(a,b)"
   ]
  },
  {
   "cell_type": "code",
   "execution_count": 7,
   "id": "80648940-cc22-4d17-bd10-468076f25f83",
   "metadata": {},
   "outputs": [
    {
     "data": {
      "text/plain": [
       "5-element Vector{Float64}:\n",
       " 0.04453617714151233\n",
       " 0.10391774666352876\n",
       " 0.17814470856604933\n",
       " 0.267217062849074\n",
       " 0.37113480951260275"
      ]
     },
     "execution_count": 7,
     "metadata": {},
     "output_type": "execute_result"
    }
   ],
   "source": [
    "Product.inner(Normal.normaler(a), Normal.normaler(b))"
   ]
  },
  {
   "cell_type": "code",
   "execution_count": null,
   "id": "6e218344-1331-4383-b4ae-1ff533bce414",
   "metadata": {},
   "outputs": [],
   "source": []
  }
 ],
 "metadata": {
  "kernelspec": {
   "display_name": "Julia 1.9.4",
   "language": "julia",
   "name": "julia-1.9"
  },
  "language_info": {
   "file_extension": ".jl",
   "mimetype": "application/julia",
   "name": "julia",
   "version": "1.9.4"
  }
 },
 "nbformat": 4,
 "nbformat_minor": 5
}
