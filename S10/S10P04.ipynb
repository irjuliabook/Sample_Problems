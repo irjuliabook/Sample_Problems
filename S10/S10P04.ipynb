{
 "cells": [
  {
   "cell_type": "code",
   "execution_count": 4,
   "id": "655052e8-5eb1-47b0-b5d0-dd92cc8d4bab",
   "metadata": {},
   "outputs": [],
   "source": [
    "import Random"
   ]
  },
  {
   "cell_type": "code",
   "execution_count": 5,
   "id": "62e0ec49-25d0-435c-8c82-0fe5426f4822",
   "metadata": {},
   "outputs": [
    {
     "data": {
      "text/plain": [
       "randomlist (generic function with 1 method)"
      ]
     },
     "execution_count": 5,
     "metadata": {},
     "output_type": "execute_result"
    }
   ],
   "source": [
    "function randomlist(n, n1, n2)\n",
    "    result = []\n",
    "    while length(result) != n\n",
    "        r = abs(Random.rand(Int))%(n2+1)\n",
    "        if n1 < r <= n2\n",
    "            result = [result..., r]\n",
    "        else\n",
    "            shift = [i for i=n1-r:n2-r]\n",
    "            r = r + Random.rand(shift)\n",
    "            result = [result..., r]\n",
    "        end\n",
    "    end\n",
    "    return result\n",
    "end"
   ]
  },
  {
   "cell_type": "code",
   "execution_count": 6,
   "id": "33075dcf-d3fa-4d35-9c0a-bf5284832d0d",
   "metadata": {},
   "outputs": [
    {
     "data": {
      "text/plain": [
       "10-element Vector{Int64}:\n",
       " 14\n",
       " 19\n",
       " 15\n",
       "  3\n",
       " 19\n",
       " 10\n",
       "  2\n",
       "  8\n",
       "  2\n",
       " 17"
      ]
     },
     "execution_count": 6,
     "metadata": {},
     "output_type": "execute_result"
    }
   ],
   "source": [
    "randomlist(10, 0, 20)"
   ]
  },
  {
   "cell_type": "code",
   "execution_count": null,
   "id": "4f4c1f97-37ca-45b1-87bb-7363e3591b7a",
   "metadata": {},
   "outputs": [],
   "source": []
  }
 ],
 "metadata": {
  "kernelspec": {
   "display_name": "Julia 1.9.4",
   "language": "julia",
   "name": "julia-1.9"
  },
  "language_info": {
   "file_extension": ".jl",
   "mimetype": "application/julia",
   "name": "julia",
   "version": "1.9.4"
  }
 },
 "nbformat": 4,
 "nbformat_minor": 5
}
