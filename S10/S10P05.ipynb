{
 "cells": [
  {
   "cell_type": "code",
   "execution_count": 1,
   "id": "a124a887-a954-4ae5-9204-c19c080fe22b",
   "metadata": {},
   "outputs": [],
   "source": [
    "import Random"
   ]
  },
  {
   "cell_type": "code",
   "execution_count": 22,
   "id": "ce0b95f0-0096-4218-97a9-6214f55daa60",
   "metadata": {},
   "outputs": [
    {
     "data": {
      "text/plain": [
       "randomlist (generic function with 1 method)"
      ]
     },
     "execution_count": 22,
     "metadata": {},
     "output_type": "execute_result"
    }
   ],
   "source": [
    "function randomlist(n, n1, n2)\n",
    "    result = []\n",
    "    while length(result) != n\n",
    "        r = abs(Random.rand(Int))%(n2+1)\n",
    "        if n1 <= r <= n2\n",
    "            result = [result..., r]\n",
    "        else\n",
    "            shift = [i for i=n1-r:n2-r]\n",
    "            r = r + Random.rand(shift)\n",
    "            result = [result..., r]\n",
    "        end\n",
    "    end\n",
    "    return result\n",
    "end"
   ]
  },
  {
   "cell_type": "code",
   "execution_count": 33,
   "id": "d299bbff-c83e-420b-bb73-b023a32d1991",
   "metadata": {},
   "outputs": [
    {
     "data": {
      "text/plain": [
       "Dict{Any, Any}()"
      ]
     },
     "execution_count": 33,
     "metadata": {},
     "output_type": "execute_result"
    }
   ],
   "source": [
    "d = Dict()"
   ]
  },
  {
   "cell_type": "code",
   "execution_count": 34,
   "id": "2446def2-ce04-4773-8b4a-b06f9acda85f",
   "metadata": {},
   "outputs": [],
   "source": [
    "for i=0:30\n",
    "    d[i]=0\n",
    "end"
   ]
  },
  {
   "cell_type": "code",
   "execution_count": 35,
   "id": "48a13094-5086-49e9-8d5e-be24bf56e12a",
   "metadata": {},
   "outputs": [],
   "source": [
    "for i=1:1000000\n",
    "    re = randomlist(10, 0, 30)\n",
    "    for v in re\n",
    "        d[v] = d[v] + 1\n",
    "    end\n",
    "end"
   ]
  },
  {
   "cell_type": "code",
   "execution_count": 43,
   "id": "e73692d4-a5bc-4a8f-87ce-2b62ef97cd34",
   "metadata": {},
   "outputs": [
    {
     "name": "stdout",
     "output_type": "stream",
     "text": [
      "0    => 322401  1    => 323377  2    => 322129  3    => 323711  \n",
      "4    => 322494  5    => 321869  6    => 323216  7    => 323263  \n",
      "8    => 321909  9    => 322212  10   => 322414  11   => 324143  \n",
      "12   => 322772  13   => 322242  14   => 322010  15   => 322435  \n",
      "16   => 322690  17   => 323144  18   => 322524  19   => 322043  \n",
      "20   => 322401  21   => 322925  22   => 322496  23   => 322670  \n",
      "24   => 321812  25   => 322281  26   => 321953  27   => 322553  \n",
      "28   => 323772  29   => 322440  30   => 321699  "
     ]
    }
   ],
   "source": [
    "for i=0:30\n",
    "    print(rpad(\"$(i)\",4,\" \"),\" => $(d[i])  \")\n",
    "    if (i+1)%4==0\n",
    "        println(\"\")\n",
    "    end\n",
    "end"
   ]
  },
  {
   "cell_type": "code",
   "execution_count": null,
   "id": "aef9da40-839b-43d1-918e-ae0e40bdf149",
   "metadata": {},
   "outputs": [],
   "source": []
  }
 ],
 "metadata": {
  "kernelspec": {
   "display_name": "Julia 1.9.4",
   "language": "julia",
   "name": "julia-1.9"
  },
  "language_info": {
   "file_extension": ".jl",
   "mimetype": "application/julia",
   "name": "julia",
   "version": "1.9.4"
  }
 },
 "nbformat": 4,
 "nbformat_minor": 5
}
