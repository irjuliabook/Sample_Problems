{
 "cells": [
  {
   "cell_type": "code",
   "execution_count": 4,
   "id": "25e5388a-a199-483d-ad4e-8952ea32ca6f",
   "metadata": {},
   "outputs": [],
   "source": [
    "using LinearAlgebra"
   ]
  },
  {
   "cell_type": "code",
   "execution_count": 5,
   "id": "f92d79e5-280f-458a-9442-7dcad702404e",
   "metadata": {},
   "outputs": [],
   "source": [
    "a = [1 2 -5\n",
    "     5 6 1\n",
    "     4 4 1 ];\n",
    "b = [3\n",
    "     5\n",
    "     1];"
   ]
  },
  {
   "cell_type": "code",
   "execution_count": 6,
   "id": "fbe5b54f-f490-429f-bdb0-20aac0e7fdc4",
   "metadata": {},
   "outputs": [
    {
     "data": {
      "text/plain": [
       "3×3 Matrix{Float64}:\n",
       "  0.1   -1.1    1.6\n",
       " -0.05   1.05  -1.3\n",
       " -0.2    0.2   -0.2"
      ]
     },
     "execution_count": 6,
     "metadata": {},
     "output_type": "execute_result"
    }
   ],
   "source": [
    "inva = LinearAlgebra.inv(a)"
   ]
  },
  {
   "cell_type": "code",
   "execution_count": 7,
   "id": "4b0634c5-1dbd-4cbb-9f3a-32661e10e06b",
   "metadata": {},
   "outputs": [
    {
     "data": {
      "text/plain": [
       "3-element Vector{Float64}:\n",
       " -3.599999999999998\n",
       "  3.7999999999999963\n",
       "  0.19999999999999934"
      ]
     },
     "execution_count": 7,
     "metadata": {},
     "output_type": "execute_result"
    }
   ],
   "source": [
    "inva*b"
   ]
  },
  {
   "cell_type": "code",
   "execution_count": null,
   "id": "89d4878f-4f8a-482f-aabd-35940a59b290",
   "metadata": {},
   "outputs": [],
   "source": []
  }
 ],
 "metadata": {
  "kernelspec": {
   "display_name": "Julia 1.9.4",
   "language": "julia",
   "name": "julia-1.9"
  },
  "language_info": {
   "file_extension": ".jl",
   "mimetype": "application/julia",
   "name": "julia",
   "version": "1.9.4"
  }
 },
 "nbformat": 4,
 "nbformat_minor": 5
}
