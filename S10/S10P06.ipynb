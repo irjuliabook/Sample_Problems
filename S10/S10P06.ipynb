{
 "cells": [
  {
   "cell_type": "code",
   "execution_count": 1,
   "id": "fdee746b-3fa6-4f16-b498-80c885f6f26e",
   "metadata": {},
   "outputs": [],
   "source": [
    "N1 = 13.1234131;\n",
    "N2 = 341.23;"
   ]
  },
  {
   "cell_type": "code",
   "execution_count": 2,
   "id": "bcc0c44c-b2a0-4ac7-8d59-ad0474c2fe4f",
   "metadata": {},
   "outputs": [],
   "source": [
    "using Printf"
   ]
  },
  {
   "cell_type": "code",
   "execution_count": 5,
   "id": "cfe3c002-b62c-4944-adbf-fe2c08836237",
   "metadata": {},
   "outputs": [
    {
     "name": "stdout",
     "output_type": "stream",
     "text": [
      "Number: 13.123 |"
     ]
    }
   ],
   "source": [
    "@printf(\"Number: %6.3f |\", N1)"
   ]
  },
  {
   "cell_type": "code",
   "execution_count": 6,
   "id": "0760a486-3227-4651-81c3-674332ae05fc",
   "metadata": {},
   "outputs": [
    {
     "name": "stdout",
     "output_type": "stream",
     "text": [
      "Number: 0000341.23 |"
     ]
    }
   ],
   "source": [
    "@printf(\"Number: %010.2f |\", N2)"
   ]
  },
  {
   "cell_type": "code",
   "execution_count": 11,
   "id": "efe1d0b7-dce1-4975-83b2-046b77ed7b87",
   "metadata": {},
   "outputs": [
    {
     "name": "stdout",
     "output_type": "stream",
     "text": [
      "Number|    341.23|"
     ]
    }
   ],
   "source": [
    "@printf(\"Number|% 10.2f|\", N2)"
   ]
  },
  {
   "cell_type": "code",
   "execution_count": 12,
   "id": "8f0d2f1e-d6ef-4298-b3c3-294b2019aa9a",
   "metadata": {},
   "outputs": [
    {
     "name": "stdout",
     "output_type": "stream",
     "text": [
      "Number| 341.23000|"
     ]
    }
   ],
   "source": [
    "@printf(\"Number|% 10.5f|\", N2)"
   ]
  },
  {
   "cell_type": "code",
   "execution_count": null,
   "id": "4b5d13b1-b2b9-449e-8aae-838e6e73b155",
   "metadata": {},
   "outputs": [],
   "source": []
  }
 ],
 "metadata": {
  "kernelspec": {
   "display_name": "Julia 1.9.4",
   "language": "julia",
   "name": "julia-1.9"
  },
  "language_info": {
   "file_extension": ".jl",
   "mimetype": "application/julia",
   "name": "julia",
   "version": "1.9.4"
  }
 },
 "nbformat": 4,
 "nbformat_minor": 5
}
