{
 "cells": [
  {
   "cell_type": "code",
   "execution_count": 39,
   "id": "2f5d3457-6119-4b8d-b95e-22ebad775cec",
   "metadata": {},
   "outputs": [],
   "source": [
    "using LinearAlgebra"
   ]
  },
  {
   "cell_type": "code",
   "execution_count": 40,
   "id": "2ed63e48-ff88-4e88-9d1a-78f5e56e743c",
   "metadata": {},
   "outputs": [
    {
     "data": {
      "text/plain": [
       "4×3 Matrix{Int64}:\n",
       "  1   2   3\n",
       "  4   5   6\n",
       "  7   8   9\n",
       " 10  11  12"
      ]
     },
     "execution_count": 40,
     "metadata": {},
     "output_type": "execute_result"
    }
   ],
   "source": [
    "m = [1 2 3\n",
    "    4 5 6\n",
    "    7 8 9\n",
    "    10 11 12]"
   ]
  },
  {
   "cell_type": "code",
   "execution_count": 41,
   "id": "8be9084f-607e-414b-af92-ba54f7eb1c90",
   "metadata": {},
   "outputs": [
    {
     "data": {
      "text/plain": [
       "1×3 Matrix{Int64}:\n",
       " 22  26  30"
      ]
     },
     "execution_count": 41,
     "metadata": {},
     "output_type": "execute_result"
    }
   ],
   "source": [
    "LinearAlgebra.sum(m, dims=1)"
   ]
  },
  {
   "cell_type": "code",
   "execution_count": 42,
   "id": "1a8734e1-4c8e-4505-b321-5a213faff7b9",
   "metadata": {},
   "outputs": [
    {
     "data": {
      "text/plain": [
       "4×1 Matrix{Int64}:\n",
       "  6\n",
       " 15\n",
       " 24\n",
       " 33"
      ]
     },
     "execution_count": 42,
     "metadata": {},
     "output_type": "execute_result"
    }
   ],
   "source": [
    "LinearAlgebra.sum(m, dims=2)"
   ]
  },
  {
   "cell_type": "code",
   "execution_count": 43,
   "id": "b7c28495-1351-455b-ad64-912d8adc1c93",
   "metadata": {},
   "outputs": [
    {
     "data": {
      "text/plain": [
       "LASUM (generic function with 1 method)"
      ]
     },
     "execution_count": 43,
     "metadata": {},
     "output_type": "execute_result"
    }
   ],
   "source": [
    "function LASUM(m)\n",
    "    row = size(m, 1)\n",
    "    col = size(m, 2)\n",
    "    sumrow = zeros(eltype(m), (row,1))\n",
    "    sumcol = zeros(eltype(m), (1, col))\n",
    "    for i=1:row\n",
    "        for j=1:col\n",
    "            sumrow[i,1] = sumrow[i,1] + m[i,j]\n",
    "        end\n",
    "    end\n",
    "    for j=1:col\n",
    "        for i=1:row\n",
    "            sumcol[1,j] = sumcol[1,j] + m[i,j]\n",
    "        end\n",
    "    end\n",
    "    d = Dict()\n",
    "    d[\"row\"] = sumrow\n",
    "    d[\"col\"] = sumcol\n",
    "    return d\n",
    "end"
   ]
  },
  {
   "cell_type": "code",
   "execution_count": 44,
   "id": "39d4f3b7-eaca-4864-bf09-076e54aa2b13",
   "metadata": {},
   "outputs": [],
   "source": [
    "result = LASUM(m);"
   ]
  },
  {
   "cell_type": "code",
   "execution_count": 45,
   "id": "5ca78596-1fa5-4dc2-b76d-4eef3003b408",
   "metadata": {},
   "outputs": [
    {
     "data": {
      "text/plain": [
       "1×3 Matrix{Int64}:\n",
       " 22  26  30"
      ]
     },
     "execution_count": 45,
     "metadata": {},
     "output_type": "execute_result"
    }
   ],
   "source": [
    "result[\"col\"]"
   ]
  },
  {
   "cell_type": "code",
   "execution_count": 46,
   "id": "24653ddd-2fff-4347-87ae-7164aea6d8f4",
   "metadata": {},
   "outputs": [
    {
     "data": {
      "text/plain": [
       "4×1 Matrix{Int64}:\n",
       "  6\n",
       " 15\n",
       " 24\n",
       " 33"
      ]
     },
     "execution_count": 46,
     "metadata": {},
     "output_type": "execute_result"
    }
   ],
   "source": [
    "result[\"row\"]"
   ]
  },
  {
   "cell_type": "code",
   "execution_count": null,
   "id": "13e1f843-5086-4a24-b447-8857c64e5ab0",
   "metadata": {},
   "outputs": [],
   "source": []
  }
 ],
 "metadata": {
  "kernelspec": {
   "display_name": "Julia 1.9.4",
   "language": "julia",
   "name": "julia-1.9"
  },
  "language_info": {
   "file_extension": ".jl",
   "mimetype": "application/julia",
   "name": "julia",
   "version": "1.9.4"
  }
 },
 "nbformat": 4,
 "nbformat_minor": 5
}
