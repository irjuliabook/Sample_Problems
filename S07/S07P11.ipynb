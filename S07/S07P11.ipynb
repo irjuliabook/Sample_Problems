{
 "cells": [
  {
   "cell_type": "code",
   "execution_count": 1,
   "id": "ac6e19d5-c8e6-4943-83f1-bda73d426f2f",
   "metadata": {},
   "outputs": [],
   "source": [
    "macro REAL(DATA)\n",
    "           NEW = []\n",
    "           Data = eval(DATA)\n",
    "           for i in Data\n",
    "               if typeof(i) in (typeof(1+1im), typeof(1.0+1.0im))\n",
    "                   NEW = [NEW..., real(i)]\n",
    "               else\n",
    "                   NEW = [NEW..., i]\n",
    "               end\n",
    "           end\n",
    "           return NEW\n",
    "       end;"
   ]
  },
  {
   "cell_type": "code",
   "execution_count": 2,
   "id": "20ba5d35-7384-49bf-9d87-e14dd25db075",
   "metadata": {},
   "outputs": [],
   "source": [
    "t = (1,2,3+4im,5+6.0im,8);"
   ]
  },
  {
   "cell_type": "code",
   "execution_count": 3,
   "id": "f006c749-0341-44dd-a2f2-6dc8778c2ad6",
   "metadata": {},
   "outputs": [
    {
     "data": {
      "text/plain": [
       "5-element Vector{Float64}:\n",
       " 1.0\n",
       " 2.0\n",
       " 3.0\n",
       " 5.0\n",
       " 8.0"
      ]
     },
     "execution_count": 3,
     "metadata": {},
     "output_type": "execute_result"
    }
   ],
   "source": [
    "@REAL t"
   ]
  }
 ],
 "metadata": {
  "kernelspec": {
   "display_name": "Julia 1.9.4",
   "language": "julia",
   "name": "julia-1.9"
  },
  "language_info": {
   "file_extension": ".jl",
   "mimetype": "application/julia",
   "name": "julia",
   "version": "1.9.4"
  }
 },
 "nbformat": 4,
 "nbformat_minor": 5
}
