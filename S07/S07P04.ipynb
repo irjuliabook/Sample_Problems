{
 "cells": [
  {
   "cell_type": "code",
   "execution_count": 2,
   "id": "25e5388a-a199-483d-ad4e-8952ea32ca6f",
   "metadata": {},
   "outputs": [],
   "source": [
    "function SUM(values...)\n",
    "           sum = 0\n",
    "           for v in values\n",
    "                 if typeof(v) == Int\n",
    "                       sum = sum + v\n",
    "                 else\n",
    "                       for i in v\n",
    "                             sum = sum + i\n",
    "                       end\n",
    "                 end\n",
    "           end\n",
    "           return sum\n",
    "end;"
   ]
  },
  {
   "cell_type": "code",
   "execution_count": 3,
   "id": "f7541476-d2f5-4545-95cb-652dec0e346b",
   "metadata": {},
   "outputs": [],
   "source": [
    "set = Set([1,1.2,1//3]);\n",
    "list = [1,2,-4.5];\n",
    "t = (1,2,3);"
   ]
  },
  {
   "cell_type": "code",
   "execution_count": 4,
   "id": "ee4d6552-4661-4087-a69c-ebf11a9cd89c",
   "metadata": {},
   "outputs": [
    {
     "data": {
      "text/plain": [
       "13.033333333333333"
      ]
     },
     "execution_count": 4,
     "metadata": {},
     "output_type": "execute_result"
    }
   ],
   "source": [
    "SUM(1,2,3,set,list,t)"
   ]
  },
  {
   "cell_type": "code",
   "execution_count": null,
   "id": "176306a0-e74c-4e58-b35c-69421b7de473",
   "metadata": {},
   "outputs": [],
   "source": []
  }
 ],
 "metadata": {
  "kernelspec": {
   "display_name": "Julia 1.9.4",
   "language": "julia",
   "name": "julia-1.9"
  },
  "language_info": {
   "file_extension": ".jl",
   "mimetype": "application/julia",
   "name": "julia",
   "version": "1.9.4"
  }
 },
 "nbformat": 4,
 "nbformat_minor": 5
}
