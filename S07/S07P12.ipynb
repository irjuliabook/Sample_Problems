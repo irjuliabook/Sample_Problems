{
 "cells": [
  {
   "cell_type": "code",
   "execution_count": 1,
   "id": "4ae2d8ad-6a80-4056-afd9-f907efe0fa2d",
   "metadata": {},
   "outputs": [],
   "source": [
    "Motion = [\"up\", \"up\", \"down\", \"left\", \"right\", \"up\"];"
   ]
  },
  {
   "cell_type": "code",
   "execution_count": 2,
   "id": "d5c971b9-97ce-445a-af38-8af639addfd4",
   "metadata": {},
   "outputs": [
    {
     "data": {
      "text/plain": [
       "6-element Vector{String}:\n",
       " \"↑\"\n",
       " \"↑\"\n",
       " \"↓\"\n",
       " \"←\"\n",
       " \"→\"\n",
       " \"↑\""
      ]
     },
     "execution_count": 2,
     "metadata": {},
     "output_type": "execute_result"
    }
   ],
   "source": [
    "map(Motion) do x\n",
    "      if x == \"up\"\n",
    "            return \"↑\"\n",
    "      end\n",
    "      if x == \"right\"\n",
    "            return \"→\"\n",
    "      end\n",
    "      if x == \"left\"\n",
    "            return \"←\"\n",
    "      end\n",
    "      if x == \"down\"\n",
    "            return \"↓\"\n",
    "      end\n",
    "end"
   ]
  },
  {
   "cell_type": "code",
   "execution_count": null,
   "id": "2d88dbd8-d261-4819-b654-8d5a05270c37",
   "metadata": {},
   "outputs": [],
   "source": []
  }
 ],
 "metadata": {
  "kernelspec": {
   "display_name": "Julia 1.9.4",
   "language": "julia",
   "name": "julia-1.9"
  },
  "language_info": {
   "file_extension": ".jl",
   "mimetype": "application/julia",
   "name": "julia",
   "version": "1.9.4"
  }
 },
 "nbformat": 4,
 "nbformat_minor": 5
}
