{
 "cells": [
  {
   "cell_type": "code",
   "execution_count": 1,
   "id": "4ae2d8ad-6a80-4056-afd9-f907efe0fa2d",
   "metadata": {},
   "outputs": [],
   "source": [
    "function solver(func, x1 = -10.0, x2 = 10.0)\n",
    "      d = 0.01\n",
    "      range = (x2-x1)/d\n",
    "      check1 = func(x1)\n",
    "      for i=1:range\n",
    "            x = x1 + d*i\n",
    "            check2 = func(x)\n",
    "            if check1*check2 <= 0\n",
    "                  return x\n",
    "            else\n",
    "                  check1 = check2\n",
    "            end\n",
    "      end\n",
    "      return \"No solution for f(x) = 0 in range: [$(x1), $(x2)]\"\n",
    "end;"
   ]
  },
  {
   "cell_type": "code",
   "execution_count": 2,
   "id": "21727be9-6aa3-4b60-a824-39c44d90cb3a",
   "metadata": {},
   "outputs": [],
   "source": [
    "f(x) = x^2 - 8x + 13;"
   ]
  },
  {
   "cell_type": "code",
   "execution_count": 3,
   "id": "8d6fcd11-b73e-4668-a0b9-f64a884a242b",
   "metadata": {},
   "outputs": [
    {
     "data": {
      "text/plain": [
       "2.2699999999999996"
      ]
     },
     "execution_count": 3,
     "metadata": {},
     "output_type": "execute_result"
    }
   ],
   "source": [
    "solver(f)"
   ]
  },
  {
   "cell_type": "code",
   "execution_count": null,
   "id": "2c83a983-8752-40b1-9a49-8db2e3b6fd82",
   "metadata": {},
   "outputs": [],
   "source": []
  }
 ],
 "metadata": {
  "kernelspec": {
   "display_name": "Julia 1.9.4",
   "language": "julia",
   "name": "julia-1.9"
  },
  "language_info": {
   "file_extension": ".jl",
   "mimetype": "application/julia",
   "name": "julia",
   "version": "1.9.4"
  }
 },
 "nbformat": 4,
 "nbformat_minor": 5
}
