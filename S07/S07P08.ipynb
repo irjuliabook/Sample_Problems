{
 "cells": [
  {
   "cell_type": "code",
   "execution_count": 1,
   "id": "4ae2d8ad-6a80-4056-afd9-f907efe0fa2d",
   "metadata": {},
   "outputs": [],
   "source": [
    "function factor(x)\n",
    "      r = 1\n",
    "      for i=1:x\n",
    "            r = r * i\n",
    "      end\n",
    "      return r\n",
    "end;"
   ]
  },
  {
   "cell_type": "code",
   "execution_count": 2,
   "id": "d5c971b9-97ce-445a-af38-8af639addfd4",
   "metadata": {},
   "outputs": [],
   "source": [
    "function series(x, a = 1, n = 100)\n",
    "      sum = 0\n",
    "      for i = 0:n\n",
    "            p1 = ((-1.0)^i)\n",
    "            p2 = ((x/2)^(2*i+a))\n",
    "            p3 = factor(i)*factor(i+a)\n",
    "            sum = sum + p1*p2/p3\n",
    "      end\n",
    "      return sum\n",
    "end;"
   ]
  },
  {
   "cell_type": "code",
   "execution_count": 3,
   "id": "532dd224-77ba-4757-a5ac-8021544af145",
   "metadata": {},
   "outputs": [
    {
     "data": {
      "text/plain": [
       "0.5767248077568736"
      ]
     },
     "execution_count": 3,
     "metadata": {},
     "output_type": "execute_result"
    }
   ],
   "source": [
    "series(2,1,10)"
   ]
  },
  {
   "cell_type": "code",
   "execution_count": null,
   "id": "9a21b0ac-4c4d-46f4-b55c-e04b61f1827a",
   "metadata": {},
   "outputs": [],
   "source": []
  }
 ],
 "metadata": {
  "kernelspec": {
   "display_name": "Julia 1.9.4",
   "language": "julia",
   "name": "julia-1.9"
  },
  "language_info": {
   "file_extension": ".jl",
   "mimetype": "application/julia",
   "name": "julia",
   "version": "1.9.4"
  }
 },
 "nbformat": 4,
 "nbformat_minor": 5
}
