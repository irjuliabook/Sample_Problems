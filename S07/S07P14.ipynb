{
 "cells": [
  {
   "cell_type": "code",
   "execution_count": 1,
   "id": "ac6e19d5-c8e6-4943-83f1-bda73d426f2f",
   "metadata": {},
   "outputs": [],
   "source": [
    "function Sum(data)\n",
    "      if length(data) >= 2\n",
    "            return Sum(data[1]) + Sum(data[2:end])\n",
    "      else\n",
    "            if length(data[1]) >= 2\n",
    "                  return Sum(data[1][1]) + Sum(data[1][2:end])\n",
    "            else\n",
    "                  return data[1]\n",
    "            end\n",
    "      end\n",
    "end;"
   ]
  },
  {
   "cell_type": "code",
   "execution_count": 2,
   "id": "20ba5d35-7384-49bf-9d87-e14dd25db075",
   "metadata": {},
   "outputs": [
    {
     "data": {
      "text/plain": [
       "19"
      ]
     },
     "execution_count": 2,
     "metadata": {},
     "output_type": "execute_result"
    }
   ],
   "source": [
    "Sum([1,(1,2),4,(1,(1,2,3),4)])"
   ]
  },
  {
   "cell_type": "code",
   "execution_count": null,
   "id": "b524ed66-439d-4d88-b17f-36a9074e0ce8",
   "metadata": {},
   "outputs": [],
   "source": []
  }
 ],
 "metadata": {
  "kernelspec": {
   "display_name": "Julia 1.9.4",
   "language": "julia",
   "name": "julia-1.9"
  },
  "language_info": {
   "file_extension": ".jl",
   "mimetype": "application/julia",
   "name": "julia",
   "version": "1.9.4"
  }
 },
 "nbformat": 4,
 "nbformat_minor": 5
}
