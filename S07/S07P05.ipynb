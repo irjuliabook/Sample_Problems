{
 "cells": [
  {
   "cell_type": "code",
   "execution_count": 1,
   "id": "4ae2d8ad-6a80-4056-afd9-f907efe0fa2d",
   "metadata": {},
   "outputs": [],
   "source": [
    "function up_to_xx(x)\n",
    "      sq = sqrt(x)\n",
    "      new_sq = ceil(sq)\n",
    "      return new_sq^2\n",
    "end;"
   ]
  },
  {
   "cell_type": "code",
   "execution_count": 2,
   "id": "82096127-735f-45b2-9a89-60f6758b6310",
   "metadata": {},
   "outputs": [
    {
     "data": {
      "text/plain": [
       "9-element Vector{Float64}:\n",
       "   4.0\n",
       "   9.0\n",
       "   9.0\n",
       "   9.0\n",
       "  16.0\n",
       "  25.0\n",
       "  81.0\n",
       " 100.0\n",
       " 196.0"
      ]
     },
     "execution_count": 2,
     "metadata": {},
     "output_type": "execute_result"
    }
   ],
   "source": [
    "L = [3,5,7,9,16, 24,67,98,176];\n",
    "map(up_to_xx, L)"
   ]
  },
  {
   "cell_type": "code",
   "execution_count": null,
   "id": "79895cc2-f9e1-4598-9253-3ec9c419b6aa",
   "metadata": {},
   "outputs": [],
   "source": []
  }
 ],
 "metadata": {
  "kernelspec": {
   "display_name": "Julia 1.9.4",
   "language": "julia",
   "name": "julia-1.9"
  },
  "language_info": {
   "file_extension": ".jl",
   "mimetype": "application/julia",
   "name": "julia",
   "version": "1.9.4"
  }
 },
 "nbformat": 4,
 "nbformat_minor": 5
}
