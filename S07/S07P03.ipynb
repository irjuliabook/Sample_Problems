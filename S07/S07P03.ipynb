{
 "cells": [
  {
   "cell_type": "code",
   "execution_count": 3,
   "id": "25e5388a-a199-483d-ad4e-8952ea32ca6f",
   "metadata": {},
   "outputs": [],
   "source": [
    "function func(V::Array{Int})\n",
    "      sum = 0\n",
    "      for i in V\n",
    "            sum = sum + i\n",
    "      end\n",
    "      return sum/length(V)\n",
    "end;"
   ]
  },
  {
   "cell_type": "code",
   "execution_count": 4,
   "id": "dc5d9f52-606f-4d1f-9247-df3a6e7bb7f4",
   "metadata": {},
   "outputs": [],
   "source": [
    "function func(V::Array{Float64})\n",
    "      p = 1.0\n",
    "      for i in V\n",
    "            p = p * i\n",
    "      end\n",
    "      return p\n",
    "end;"
   ]
  },
  {
   "cell_type": "code",
   "execution_count": 5,
   "id": "5e7380c7-58f3-4160-8472-486a2b88f926",
   "metadata": {},
   "outputs": [
    {
     "name": "stdout",
     "output_type": "stream",
     "text": [
      "2.5\n",
      "24.0"
     ]
    }
   ],
   "source": [
    "println(func([1,2,3,4]))\n",
    "print(func([1,2,3,4.0]))"
   ]
  },
  {
   "cell_type": "code",
   "execution_count": null,
   "id": "95bfbfb0-fba3-4766-b664-8d972196cb55",
   "metadata": {},
   "outputs": [],
   "source": []
  }
 ],
 "metadata": {
  "kernelspec": {
   "display_name": "Julia 1.9.4",
   "language": "julia",
   "name": "julia-1.9"
  },
  "language_info": {
   "file_extension": ".jl",
   "mimetype": "application/julia",
   "name": "julia",
   "version": "1.9.4"
  }
 },
 "nbformat": 4,
 "nbformat_minor": 5
}
