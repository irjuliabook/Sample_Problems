{
 "cells": [
  {
   "cell_type": "code",
   "execution_count": 1,
   "id": "ac6e19d5-c8e6-4943-83f1-bda73d426f2f",
   "metadata": {},
   "outputs": [],
   "source": [
    "struct Pos\n",
    "      X::Real\n",
    "      Y::Real\n",
    "      function Pos(X,Y)\n",
    "            R = sqrt(X^2 + Y^2)\n",
    "            if R>2\n",
    "                  new(2*X/R, 2*Y/R)\n",
    "            else\n",
    "                  new(X,Y)\n",
    "            end\n",
    "      end\n",
    "end"
   ]
  },
  {
   "cell_type": "code",
   "execution_count": 3,
   "id": "9f395f14-630e-4392-8ac2-81fc4a86b82f",
   "metadata": {},
   "outputs": [
    {
     "name": "stdout",
     "output_type": "stream",
     "text": [
      "Pos(1, 1)\n",
      "Pos(1.9402850002906638, 0.48507125007266594)"
     ]
    }
   ],
   "source": [
    "println(Pos(1,1))\n",
    "print(Pos(4,1))"
   ]
  },
  {
   "cell_type": "code",
   "execution_count": null,
   "id": "b0c496b0-0c8e-4d21-85aa-63fc18307ef9",
   "metadata": {},
   "outputs": [],
   "source": []
  }
 ],
 "metadata": {
  "kernelspec": {
   "display_name": "Julia 1.9.4",
   "language": "julia",
   "name": "julia-1.9"
  },
  "language_info": {
   "file_extension": ".jl",
   "mimetype": "application/julia",
   "name": "julia",
   "version": "1.9.4"
  }
 },
 "nbformat": 4,
 "nbformat_minor": 5
}
