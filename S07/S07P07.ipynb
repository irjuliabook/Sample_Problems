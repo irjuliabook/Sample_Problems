{
 "cells": [
  {
   "cell_type": "code",
   "execution_count": 1,
   "id": "25e5388a-a199-483d-ad4e-8952ea32ca6f",
   "metadata": {},
   "outputs": [],
   "source": [
    "function SQRT(x)\n",
    "      d = 0.01\n",
    "      range = ceil(x)/d\n",
    "      for i=0:range\n",
    "            xx = i*d\n",
    "            if xx*xx>x\n",
    "                  return xx-0.005\n",
    "            end\n",
    "      end\n",
    "end;"
   ]
  },
  {
   "cell_type": "code",
   "execution_count": 2,
   "id": "2dec452e-6ace-46f9-8bee-9648433e989e",
   "metadata": {},
   "outputs": [
    {
     "data": {
      "text/plain": [
       "(3.165, 3.1622776601683795)"
      ]
     },
     "execution_count": 2,
     "metadata": {},
     "output_type": "execute_result"
    }
   ],
   "source": [
    "SQRT(10), sqrt(10)"
   ]
  }
 ],
 "metadata": {
  "kernelspec": {
   "display_name": "Julia 1.9.4",
   "language": "julia",
   "name": "julia-1.9"
  },
  "language_info": {
   "file_extension": ".jl",
   "mimetype": "application/julia",
   "name": "julia",
   "version": "1.9.4"
  }
 },
 "nbformat": 4,
 "nbformat_minor": 5
}
