{
 "cells": [
  {
   "cell_type": "code",
   "execution_count": 1,
   "id": "25e5388a-a199-483d-ad4e-8952ea32ca6f",
   "metadata": {},
   "outputs": [
    {
     "data": {
      "text/plain": [
       "is_tri (generic function with 1 method)"
      ]
     },
     "execution_count": 1,
     "metadata": {},
     "output_type": "execute_result"
    }
   ],
   "source": [
    "function is_tri(a,b,c)\n",
    "      if a+b>=c && a+c>=b && b+c>=a\n",
    "            return true\n",
    "      else\n",
    "            return false\n",
    "      end\n",
    "end"
   ]
  },
  {
   "cell_type": "code",
   "execution_count": 3,
   "id": "f3fda6eb-2315-4001-b80d-0919bdb7aa3d",
   "metadata": {},
   "outputs": [
    {
     "name": "stdout",
     "output_type": "stream",
     "text": [
      "false\n",
      "true"
     ]
    }
   ],
   "source": [
    "println(is_tri(1,2,5))\n",
    "print(is_tri(4,5,6))"
   ]
  },
  {
   "cell_type": "code",
   "execution_count": null,
   "id": "56be010e-6948-449f-a61a-5597286f2aa8",
   "metadata": {},
   "outputs": [],
   "source": []
  }
 ],
 "metadata": {
  "kernelspec": {
   "display_name": "Julia 1.9.4",
   "language": "julia",
   "name": "julia-1.9"
  },
  "language_info": {
   "file_extension": ".jl",
   "mimetype": "application/julia",
   "name": "julia",
   "version": "1.9.4"
  }
 },
 "nbformat": 4,
 "nbformat_minor": 5
}
