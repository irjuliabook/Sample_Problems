{
 "cells": [
  {
   "cell_type": "code",
   "execution_count": 1,
   "id": "ac6e19d5-c8e6-4943-83f1-bda73d426f2f",
   "metadata": {},
   "outputs": [],
   "source": [
    "function Decor(func)\n",
    "      function inner(x)\n",
    "      sum = 0.0\n",
    "            dx = 0.01\n",
    "            range = (x/dx)-1\n",
    "            for i=0:range\n",
    "                  sum = sum + func(i*dx)*dx\n",
    "            end\n",
    "            avg = sum/x\n",
    "            println(\"Average from 0 to $(x) = \", avg)\n",
    "            return func(x)\n",
    "      end\n",
    "      return inner\n",
    "end;"
   ]
  },
  {
   "cell_type": "code",
   "execution_count": 2,
   "id": "cd6653b4-adc6-40ed-a969-78cb86c1a06b",
   "metadata": {},
   "outputs": [],
   "source": [
    "f(x) = x*x + 2*x + 1;\n",
    "new_f = Decor(f);"
   ]
  },
  {
   "cell_type": "code",
   "execution_count": 3,
   "id": "a89d3f6b-fae5-469a-ab2e-97f3ab1ebb79",
   "metadata": {},
   "outputs": [
    {
     "name": "stdout",
     "output_type": "stream",
     "text": [
      "Average from 0 to 5 = 14.29834999999999\n"
     ]
    },
    {
     "data": {
      "text/plain": [
       "36"
      ]
     },
     "execution_count": 3,
     "metadata": {},
     "output_type": "execute_result"
    }
   ],
   "source": [
    "new_f(5)"
   ]
  },
  {
   "cell_type": "code",
   "execution_count": null,
   "id": "33ca7448-ebfe-469d-9379-d24903993c3c",
   "metadata": {},
   "outputs": [],
   "source": []
  }
 ],
 "metadata": {
  "kernelspec": {
   "display_name": "Julia 1.9.4",
   "language": "julia",
   "name": "julia-1.9"
  },
  "language_info": {
   "file_extension": ".jl",
   "mimetype": "application/julia",
   "name": "julia",
   "version": "1.9.4"
  }
 },
 "nbformat": 4,
 "nbformat_minor": 5
}
