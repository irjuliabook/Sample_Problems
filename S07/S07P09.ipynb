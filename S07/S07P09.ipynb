{
 "cells": [
  {
   "cell_type": "code",
   "execution_count": 1,
   "id": "4ae2d8ad-6a80-4056-afd9-f907efe0fa2d",
   "metadata": {},
   "outputs": [],
   "source": [
    "function sum_eq_10(s)\n",
    "      sum = 0\n",
    "      for i in s\n",
    "            sum = sum + i\n",
    "      end\n",
    "      return sum\n",
    "end;"
   ]
  },
  {
   "cell_type": "code",
   "execution_count": 2,
   "id": "71925fbf-5856-4c99-87dd-e0c0bccded7e",
   "metadata": {},
   "outputs": [],
   "source": [
    "function correct(m)\n",
    "      for i in (1,3)\n",
    "            for j in (1,3)\n",
    "                  s = Set(m[i:i+1, j:j+1])\n",
    "                  if length(s) != 4 || sum_eq_10(s) != 10\n",
    "                        return print(\"Incorrect ... \\n\", m[i:i+1, j:j+1])\n",
    "                  end\n",
    "            end\n",
    "      end\n",
    "      for i=1:4\n",
    "            s = Set(m[i,:])\n",
    "            if length(s) != 4 || sum_eq_10(s) != 10\n",
    "                  return print(\"Incorrect ... \\n\", m[i,:])\n",
    "            end\n",
    "      end\n",
    "      for j=1:4\n",
    "            s = Set(m[:,j])\n",
    "            if length(s) != 4 || sum_eq_10(s) != 10\n",
    "                  return print(\"Incorrect ... \\n\", m[:,j])\n",
    "            end\n",
    "      end\n",
    "      return \"*** Correct ***\"\n",
    "end;"
   ]
  },
  {
   "cell_type": "code",
   "execution_count": 3,
   "id": "efd95e49-d757-4c74-bf18-93f557f99396",
   "metadata": {},
   "outputs": [],
   "source": [
    "m = [1 2 3 4\n",
    "            3 4 1 2\n",
    "            2 3 4 1\n",
    "            4 1 2 3];"
   ]
  },
  {
   "cell_type": "code",
   "execution_count": 4,
   "id": "a23391c6-fc9d-48fa-8214-b8dd53c0f74c",
   "metadata": {},
   "outputs": [
    {
     "data": {
      "text/plain": [
       "\"*** Correct ***\""
      ]
     },
     "execution_count": 4,
     "metadata": {},
     "output_type": "execute_result"
    }
   ],
   "source": [
    "correct(m)"
   ]
  },
  {
   "cell_type": "code",
   "execution_count": 5,
   "id": "58daa788-c1fe-4bbb-8c9d-63582395508c",
   "metadata": {},
   "outputs": [],
   "source": [
    "m = [1 2 3 3\n",
    "            3 4 1 2\n",
    "            2 3 4 1\n",
    "            4 1 2 3];"
   ]
  },
  {
   "cell_type": "code",
   "execution_count": 6,
   "id": "665388dd-d5bf-41bd-87d0-4a5cf48e2986",
   "metadata": {},
   "outputs": [
    {
     "name": "stdout",
     "output_type": "stream",
     "text": [
      "Incorrect ... \n",
      "[3 3; 1 2]"
     ]
    }
   ],
   "source": [
    "correct(m)"
   ]
  },
  {
   "cell_type": "code",
   "execution_count": null,
   "id": "73ebcdd6-1a5b-4e3f-be0f-33230a51c303",
   "metadata": {},
   "outputs": [],
   "source": []
  }
 ],
 "metadata": {
  "kernelspec": {
   "display_name": "Julia 1.9.4",
   "language": "julia",
   "name": "julia-1.9"
  },
  "language_info": {
   "file_extension": ".jl",
   "mimetype": "application/julia",
   "name": "julia",
   "version": "1.9.4"
  }
 },
 "nbformat": 4,
 "nbformat_minor": 5
}
