{
 "cells": [
  {
   "cell_type": "code",
   "execution_count": 1,
   "id": "ac6e19d5-c8e6-4943-83f1-bda73d426f2f",
   "metadata": {},
   "outputs": [],
   "source": [
    "function sum(data)\n",
    "           if length(data) >= 2\n",
    "               return data[1] + sum(data[2:end])\n",
    "           else\n",
    "               return data[1]\n",
    "           end\n",
    "       end;"
   ]
  },
  {
   "cell_type": "code",
   "execution_count": 2,
   "id": "2cab94f2-6936-4a2c-a24b-96c7907f3ce2",
   "metadata": {},
   "outputs": [
    {
     "data": {
      "text/plain": [
       "55"
      ]
     },
     "execution_count": 2,
     "metadata": {},
     "output_type": "execute_result"
    }
   ],
   "source": [
    "sum([1,2,3,4,5,6,7,8,9,10])"
   ]
  },
  {
   "cell_type": "code",
   "execution_count": null,
   "id": "69cdf735-04d8-4645-923b-2df4eb33bd76",
   "metadata": {},
   "outputs": [],
   "source": []
  }
 ],
 "metadata": {
  "kernelspec": {
   "display_name": "Julia 1.9.4",
   "language": "julia",
   "name": "julia-1.9"
  },
  "language_info": {
   "file_extension": ".jl",
   "mimetype": "application/julia",
   "name": "julia",
   "version": "1.9.4"
  }
 },
 "nbformat": 4,
 "nbformat_minor": 5
}
