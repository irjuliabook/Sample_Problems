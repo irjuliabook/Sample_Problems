{
 "cells": [
  {
   "cell_type": "code",
   "execution_count": 1,
   "id": "25e5388a-a199-483d-ad4e-8952ea32ca6f",
   "metadata": {},
   "outputs": [],
   "source": [
    "f = 0.0;"
   ]
  },
  {
   "cell_type": "code",
   "execution_count": 2,
   "id": "f7541476-d2f5-4545-95cb-652dec0e346b",
   "metadata": {},
   "outputs": [],
   "source": [
    "for i=0:100\n",
    "      f = f + (0.123456789)^i\n",
    "end"
   ]
  },
  {
   "cell_type": "code",
   "execution_count": 3,
   "id": "317d2da0-2493-4482-b20b-309d3474d36f",
   "metadata": {},
   "outputs": [
    {
     "name": "stdout",
     "output_type": "stream",
     "text": [
      "result = 1.1408450689603256"
     ]
    }
   ],
   "source": [
    "print(\"result = \",f)"
   ]
  },
  {
   "cell_type": "code",
   "execution_count": null,
   "id": "5c940a28-5621-4fbd-8d94-82b8a3879e64",
   "metadata": {},
   "outputs": [],
   "source": []
  }
 ],
 "metadata": {
  "kernelspec": {
   "display_name": "Julia 1.9.4",
   "language": "julia",
   "name": "julia-1.9"
  },
  "language_info": {
   "file_extension": ".jl",
   "mimetype": "application/julia",
   "name": "julia",
   "version": "1.9.4"
  }
 },
 "nbformat": 4,
 "nbformat_minor": 5
}
