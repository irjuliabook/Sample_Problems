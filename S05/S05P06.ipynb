{
 "cells": [
  {
   "cell_type": "code",
   "execution_count": 1,
   "id": "4ae2d8ad-6a80-4056-afd9-f907efe0fa2d",
   "metadata": {},
   "outputs": [],
   "source": [
    "n = 123456789;\n",
    "new_n = 0;"
   ]
  },
  {
   "cell_type": "code",
   "execution_count": 2,
   "id": "21727be9-6aa3-4b60-a824-39c44d90cb3a",
   "metadata": {},
   "outputs": [],
   "source": [
    "while n>0\n",
    "           new_n = Int128(new_n*10 + n%10)\n",
    "           n = (n-n%10)/10\n",
    "       end"
   ]
  },
  {
   "cell_type": "code",
   "execution_count": 3,
   "id": "01ec0f03-0d88-4017-96a3-46feb88c578a",
   "metadata": {},
   "outputs": [
    {
     "name": "stdout",
     "output_type": "stream",
     "text": [
      "987654321"
     ]
    }
   ],
   "source": [
    "print(new_n)"
   ]
  },
  {
   "cell_type": "code",
   "execution_count": null,
   "id": "3aee2a43-1753-4947-b1dc-586e71032728",
   "metadata": {},
   "outputs": [],
   "source": []
  }
 ],
 "metadata": {
  "kernelspec": {
   "display_name": "Julia 1.9.4",
   "language": "julia",
   "name": "julia-1.9"
  },
  "language_info": {
   "file_extension": ".jl",
   "mimetype": "application/julia",
   "name": "julia",
   "version": "1.9.4"
  }
 },
 "nbformat": 4,
 "nbformat_minor": 5
}
