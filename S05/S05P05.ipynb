{
 "cells": [
  {
   "cell_type": "code",
   "execution_count": 1,
   "id": "4ae2d8ad-6a80-4056-afd9-f907efe0fa2d",
   "metadata": {},
   "outputs": [],
   "source": [
    "f = 0.0;"
   ]
  },
  {
   "cell_type": "code",
   "execution_count": 2,
   "id": "82096127-735f-45b2-9a89-60f6758b6310",
   "metadata": {},
   "outputs": [],
   "source": [
    "for i=0:100\n",
    "      if i%6==0\n",
    "            continue\n",
    "      end\n",
    "      f = f + (-1)^i * (0.123456789)^i\n",
    "end"
   ]
  },
  {
   "cell_type": "code",
   "execution_count": 3,
   "id": "e4d5291f-a6c3-4851-8bf6-122d2342392f",
   "metadata": {},
   "outputs": [
    {
     "name": "stdout",
     "output_type": "stream",
     "text": [
      "result = -0.10989364971850481"
     ]
    }
   ],
   "source": [
    "print(\"result = \",f)"
   ]
  },
  {
   "cell_type": "code",
   "execution_count": null,
   "id": "79895cc2-f9e1-4598-9253-3ec9c419b6aa",
   "metadata": {},
   "outputs": [],
   "source": []
  }
 ],
 "metadata": {
  "kernelspec": {
   "display_name": "Julia 1.9.4",
   "language": "julia",
   "name": "julia-1.9"
  },
  "language_info": {
   "file_extension": ".jl",
   "mimetype": "application/julia",
   "name": "julia",
   "version": "1.9.4"
  }
 },
 "nbformat": 4,
 "nbformat_minor": 5
}
