{
 "cells": [
  {
   "cell_type": "code",
   "execution_count": 8,
   "id": "ac6e19d5-c8e6-4943-83f1-bda73d426f2f",
   "metadata": {},
   "outputs": [],
   "source": [
    "one = 0;\n",
    "zero = 0;\n",
    "n = 13;"
   ]
  },
  {
   "cell_type": "code",
   "execution_count": 9,
   "id": "20ba5d35-7384-49bf-9d87-e14dd25db075",
   "metadata": {},
   "outputs": [],
   "source": [
    "while n>0\n",
    "      c = n%2\n",
    "      if c==1\n",
    "            one = one + 1\n",
    "      elseif c==0\n",
    "            zero = zero + 1\n",
    "      end\n",
    "      n = fld(n,2)\n",
    "end"
   ]
  },
  {
   "cell_type": "code",
   "execution_count": 10,
   "id": "f006c749-0341-44dd-a2f2-6dc8778c2ad6",
   "metadata": {},
   "outputs": [
    {
     "name": "stdout",
     "output_type": "stream",
     "text": [
      "one : 3 and zero : 1"
     ]
    }
   ],
   "source": [
    "print(\"one : \",one,\" and zero : \",zero)"
   ]
  },
  {
   "cell_type": "code",
   "execution_count": null,
   "id": "b524ed66-439d-4d88-b17f-36a9074e0ce8",
   "metadata": {},
   "outputs": [],
   "source": []
  }
 ],
 "metadata": {
  "kernelspec": {
   "display_name": "Julia 1.9.4",
   "language": "julia",
   "name": "julia-1.9"
  },
  "language_info": {
   "file_extension": ".jl",
   "mimetype": "application/julia",
   "name": "julia",
   "version": "1.9.4"
  }
 },
 "nbformat": 4,
 "nbformat_minor": 5
}
