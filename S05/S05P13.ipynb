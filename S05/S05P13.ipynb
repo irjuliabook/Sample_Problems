{
 "cells": [
  {
   "cell_type": "code",
   "execution_count": 1,
   "id": "ac6e19d5-c8e6-4943-83f1-bda73d426f2f",
   "metadata": {},
   "outputs": [],
   "source": [
    "n = 13;"
   ]
  },
  {
   "cell_type": "code",
   "execution_count": 2,
   "id": "2cab94f2-6936-4a2c-a24b-96c7907f3ce2",
   "metadata": {},
   "outputs": [
    {
     "name": "stdout",
     "output_type": "stream",
     "text": [
      "169"
     ]
    }
   ],
   "source": [
    "n % 2 == 0 ? print(n,\" is even\") : print(n^2)"
   ]
  },
  {
   "cell_type": "code",
   "execution_count": null,
   "id": "69cdf735-04d8-4645-923b-2df4eb33bd76",
   "metadata": {},
   "outputs": [],
   "source": []
  }
 ],
 "metadata": {
  "kernelspec": {
   "display_name": "Julia 1.9.4",
   "language": "julia",
   "name": "julia-1.9"
  },
  "language_info": {
   "file_extension": ".jl",
   "mimetype": "application/julia",
   "name": "julia",
   "version": "1.9.4"
  }
 },
 "nbformat": 4,
 "nbformat_minor": 5
}
