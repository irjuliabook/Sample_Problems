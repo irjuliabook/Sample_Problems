{
 "cells": [
  {
   "cell_type": "code",
   "execution_count": 1,
   "id": "4ae2d8ad-6a80-4056-afd9-f907efe0fa2d",
   "metadata": {},
   "outputs": [
    {
     "name": "stdout",
     "output_type": "stream",
     "text": [
      "111,112,113,121,122,123,131,132,133,211,212,213,221,222,223,231,232,233,311,312,313,321,322,323,331,332,333,"
     ]
    }
   ],
   "source": [
    "for i=1:3\n",
    "      for j=1:3\n",
    "            for k=1:3\n",
    "                  print(i*100 + j * 10 + k,\",\")\n",
    "            end\n",
    "      end\n",
    "end"
   ]
  },
  {
   "cell_type": "code",
   "execution_count": null,
   "id": "71925fbf-5856-4c99-87dd-e0c0bccded7e",
   "metadata": {},
   "outputs": [],
   "source": []
  }
 ],
 "metadata": {
  "kernelspec": {
   "display_name": "Julia 1.9.4",
   "language": "julia",
   "name": "julia-1.9"
  },
  "language_info": {
   "file_extension": ".jl",
   "mimetype": "application/julia",
   "name": "julia",
   "version": "1.9.4"
  }
 },
 "nbformat": 4,
 "nbformat_minor": 5
}
