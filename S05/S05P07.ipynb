{
 "cells": [
  {
   "cell_type": "code",
   "execution_count": 1,
   "id": "25e5388a-a199-483d-ad4e-8952ea32ca6f",
   "metadata": {},
   "outputs": [
    {
     "name": "stdout",
     "output_type": "stream",
     "text": [
      "2,2  3,3  4,2  6,2  8,2  9,3  10,2  12,2  14,2  15,3  16,2  18,2  20,2  21,3  22,2  24,2  26,2  27,3  28,2  30,2  32,2  33,3  34,2  36,2  38,2  39,3  40,2  42,2  44,2  45,3  46,2  48,2  50,2  51,3  52,2  54,2  56,2  57,3  58,2  60,2  62,2  63,3  64,2  66,2  68,2  69,3  70,2  72,2  74,2  75,3  76,2  78,2  80,2  81,3  82,2  84,2  86,2  87,3  88,2  90,2  92,2  93,3  94,2  96,2  98,2  99,3  100,2  "
     ]
    }
   ],
   "source": [
    "for i=1:100\n",
    "      if i%2 == 0\n",
    "            print(i,\",\",2)\n",
    "            print(\"  \")\n",
    "      elseif i%3 == 0\n",
    "            print(i,\",\",3)\n",
    "            print(\"  \")\n",
    "      end\n",
    "end"
   ]
  },
  {
   "cell_type": "code",
   "execution_count": null,
   "id": "2dec452e-6ace-46f9-8bee-9648433e989e",
   "metadata": {},
   "outputs": [],
   "source": []
  }
 ],
 "metadata": {
  "kernelspec": {
   "display_name": "Julia 1.9.4",
   "language": "julia",
   "name": "julia-1.9"
  },
  "language_info": {
   "file_extension": ".jl",
   "mimetype": "application/julia",
   "name": "julia",
   "version": "1.9.4"
  }
 },
 "nbformat": 4,
 "nbformat_minor": 5
}
