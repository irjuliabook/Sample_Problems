{
 "cells": [
  {
   "cell_type": "code",
   "execution_count": 1,
   "id": "ac6e19d5-c8e6-4943-83f1-bda73d426f2f",
   "metadata": {},
   "outputs": [],
   "source": [
    "n = 14.75;\n",
    "if 0 <= n <= 9.99\n",
    "           new_n = \"F\";\n",
    "       elseif 10 <= n <= 11.99\n",
    "           new_n = \"D\";\n",
    "       elseif 12 <= n <= 13.99\n",
    "           new_n = \"C\";\n",
    "       elseif 14 <= n <= 16.99\n",
    "           new_n = \"B\";\n",
    "       elseif 17 <= n <= 20\n",
    "           new_n = \"A\";\n",
    "       else\n",
    "           new_n = \"n is not in [0 , 20]\";\n",
    "       end;"
   ]
  },
  {
   "cell_type": "code",
   "execution_count": 3,
   "id": "cd6653b4-adc6-40ed-a969-78cb86c1a06b",
   "metadata": {},
   "outputs": [
    {
     "name": "stdout",
     "output_type": "stream",
     "text": [
      "B"
     ]
    }
   ],
   "source": [
    "print(new_n)"
   ]
  },
  {
   "cell_type": "code",
   "execution_count": null,
   "id": "a89d3f6b-fae5-469a-ab2e-97f3ab1ebb79",
   "metadata": {},
   "outputs": [],
   "source": []
  }
 ],
 "metadata": {
  "kernelspec": {
   "display_name": "Julia 1.9.4",
   "language": "julia",
   "name": "julia-1.9"
  },
  "language_info": {
   "file_extension": ".jl",
   "mimetype": "application/julia",
   "name": "julia",
   "version": "1.9.4"
  }
 },
 "nbformat": 4,
 "nbformat_minor": 5
}
