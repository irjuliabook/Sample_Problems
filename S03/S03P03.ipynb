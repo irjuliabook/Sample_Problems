{
 "cells": [
  {
   "cell_type": "code",
   "execution_count": 1,
   "id": "41940ca7-4aeb-4392-818a-eff731631648",
   "metadata": {},
   "outputs": [],
   "source": [
    "N = 10//3;"
   ]
  },
  {
   "cell_type": "code",
   "execution_count": 2,
   "id": "a61f6a56-5292-42f8-bd8b-c45b3c76d2d7",
   "metadata": {},
   "outputs": [],
   "source": [
    "up = numerator(N);\n",
    "down = denominator(N);"
   ]
  },
  {
   "cell_type": "code",
   "execution_count": 3,
   "id": "cfb63b3e-7a33-47a5-a677-9769c52bc3b6",
   "metadata": {},
   "outputs": [
    {
     "name": "stdout",
     "output_type": "stream",
     "text": [
      "numerator is 10\n",
      "denominator is 3\n"
     ]
    }
   ],
   "source": [
    "println(\"numerator is \",up);\n",
    "println(\"denominator is \",down);"
   ]
  },
  {
   "cell_type": "code",
   "execution_count": null,
   "id": "9b3c98b0-495c-49c7-b4e7-a77307d97146",
   "metadata": {},
   "outputs": [],
   "source": []
  }
 ],
 "metadata": {
  "kernelspec": {
   "display_name": "Julia 1.9.4",
   "language": "julia",
   "name": "julia-1.9"
  },
  "language_info": {
   "file_extension": ".jl",
   "mimetype": "application/julia",
   "name": "julia",
   "version": "1.9.4"
  }
 },
 "nbformat": 4,
 "nbformat_minor": 5
}
