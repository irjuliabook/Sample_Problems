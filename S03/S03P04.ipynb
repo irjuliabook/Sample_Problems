{
 "cells": [
  {
   "cell_type": "code",
   "execution_count": 1,
   "id": "4fa164f1-78db-4932-8e79-964366b1650c",
   "metadata": {},
   "outputs": [],
   "source": [
    "PI = pi;\n",
    "ne = ℯ;"
   ]
  },
  {
   "cell_type": "code",
   "execution_count": 2,
   "id": "08e652c2-3723-4354-b214-e3cdf932e9c0",
   "metadata": {},
   "outputs": [
    {
     "name": "stdout",
     "output_type": "stream",
     "text": [
      "type pi is Irrational{:π}\n",
      "type ne is Irrational{:ℯ}\n"
     ]
    }
   ],
   "source": [
    "println(\"type pi is \",typeof(PI));\n",
    "println(\"type ne is \",typeof(ne));"
   ]
  },
  {
   "cell_type": "code",
   "execution_count": null,
   "id": "ae5daa58-c31e-4509-9d86-70f406c602c5",
   "metadata": {},
   "outputs": [],
   "source": []
  }
 ],
 "metadata": {
  "kernelspec": {
   "display_name": "Julia 1.9.4",
   "language": "julia",
   "name": "julia-1.9"
  },
  "language_info": {
   "file_extension": ".jl",
   "mimetype": "application/julia",
   "name": "julia",
   "version": "1.9.4"
  }
 },
 "nbformat": 4,
 "nbformat_minor": 5
}
