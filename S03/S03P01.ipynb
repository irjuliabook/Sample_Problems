{
 "cells": [
  {
   "cell_type": "code",
   "execution_count": 1,
   "id": "b003ec18-475e-4b75-820c-22974f29a3de",
   "metadata": {},
   "outputs": [],
   "source": [
    "N1 = 10.0; N2 = 2//5;\n",
    "N = N1 + N2;"
   ]
  },
  {
   "cell_type": "code",
   "execution_count": 2,
   "id": "e4830774-8af0-4413-a9ce-659d117f2d35",
   "metadata": {},
   "outputs": [
    {
     "name": "stdout",
     "output_type": "stream",
     "text": [
      "10.4:Float64\n"
     ]
    }
   ],
   "source": [
    "println(N,\":\",typeof(N));"
   ]
  },
  {
   "cell_type": "code",
   "execution_count": null,
   "id": "7037bb95-090b-4101-b83d-93818e63a84a",
   "metadata": {},
   "outputs": [],
   "source": []
  }
 ],
 "metadata": {
  "kernelspec": {
   "display_name": "Julia 1.9.4",
   "language": "julia",
   "name": "julia-1.9"
  },
  "language_info": {
   "file_extension": ".jl",
   "mimetype": "application/julia",
   "name": "julia",
   "version": "1.9.4"
  }
 },
 "nbformat": 4,
 "nbformat_minor": 5
}
