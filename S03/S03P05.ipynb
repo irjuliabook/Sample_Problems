{
 "cells": [
  {
   "cell_type": "code",
   "execution_count": 1,
   "id": "b4fdf70c-d610-459a-a3b7-eb96156c89b2",
   "metadata": {},
   "outputs": [
    {
     "data": {
      "text/plain": [
       "2.0 + 3.5im"
      ]
     },
     "execution_count": 1,
     "metadata": {},
     "output_type": "execute_result"
    }
   ],
   "source": [
    "z = 2 + 3.5im"
   ]
  },
  {
   "cell_type": "code",
   "execution_count": 2,
   "id": "0dae232d-0994-4db9-acf1-a974c3b82b0f",
   "metadata": {},
   "outputs": [
    {
     "name": "stdout",
     "output_type": "stream",
     "text": [
      "Real Part: 2.0\n",
      "Imag Part: 3.5\n",
      "Abs of z : 4.031128874149275\n",
      "Angle(z) : 1.0516502125483738\n"
     ]
    }
   ],
   "source": [
    "println(\"Real Part: \", real(z));\n",
    "println(\"Imag Part: \", imag(z));\n",
    "println(\"Abs of z : \", abs(z));\n",
    "println(\"Angle(z) : \", angle(z));"
   ]
  },
  {
   "cell_type": "code",
   "execution_count": null,
   "id": "cb299a13-d0b3-4e8e-80f7-c1e95ac87cb0",
   "metadata": {},
   "outputs": [],
   "source": []
  }
 ],
 "metadata": {
  "kernelspec": {
   "display_name": "Julia 1.9.4",
   "language": "julia",
   "name": "julia-1.9"
  },
  "language_info": {
   "file_extension": ".jl",
   "mimetype": "application/julia",
   "name": "julia",
   "version": "1.9.4"
  }
 },
 "nbformat": 4,
 "nbformat_minor": 5
}
