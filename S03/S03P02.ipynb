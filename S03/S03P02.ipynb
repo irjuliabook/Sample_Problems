{
 "cells": [
  {
   "cell_type": "code",
   "execution_count": 1,
   "id": "9bfa6113-1144-4401-986d-2a066b124757",
   "metadata": {},
   "outputs": [],
   "source": [
    "N1 = 10; N2 = 2//5;\n",
    "N = N1 * N2;\n"
   ]
  },
  {
   "cell_type": "code",
   "execution_count": 2,
   "id": "6bec34f7-6b20-4720-b4c5-c7091664244f",
   "metadata": {},
   "outputs": [
    {
     "name": "stdout",
     "output_type": "stream",
     "text": [
      "4//1:Rational{Int64}\n"
     ]
    }
   ],
   "source": [
    "println(N,\":\",typeof(N));"
   ]
  },
  {
   "cell_type": "code",
   "execution_count": null,
   "id": "27316f72-d1e6-49cc-af2b-75cbba2e7f89",
   "metadata": {},
   "outputs": [],
   "source": []
  }
 ],
 "metadata": {
  "kernelspec": {
   "display_name": "Julia 1.9.4",
   "language": "julia",
   "name": "julia-1.9"
  },
  "language_info": {
   "file_extension": ".jl",
   "mimetype": "application/julia",
   "name": "julia",
   "version": "1.9.4"
  }
 },
 "nbformat": 4,
 "nbformat_minor": 5
}
