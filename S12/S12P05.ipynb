{
 "cells": [
  {
   "cell_type": "code",
   "execution_count": 1,
   "id": "7aece3d2-9159-4227-8e25-9bd5acbb2324",
   "metadata": {},
   "outputs": [],
   "source": [
    "a = 2;"
   ]
  },
  {
   "cell_type": "code",
   "execution_count": 2,
   "id": "57e79c3b-64a4-4da1-9da8-fa175c88b10b",
   "metadata": {},
   "outputs": [
    {
     "data": {
      "text/plain": [
       "quote\n",
       "    \u001b[90m#= In[2]:2 =#\u001b[39m\n",
       "    for i = 1:5\n",
       "        \u001b[90m#= In[2]:3 =#\u001b[39m\n",
       "        global a\n",
       "        \u001b[90m#= In[2]:4 =#\u001b[39m\n",
       "        a = a * a\n",
       "        \u001b[90m#= In[2]:5 =#\u001b[39m\n",
       "    end\n",
       "    \u001b[90m#= In[2]:6 =#\u001b[39m\n",
       "    print(a)\n",
       "end"
      ]
     },
     "execution_count": 2,
     "metadata": {},
     "output_type": "execute_result"
    }
   ],
   "source": [
    "expr = quote\n",
    "            for i=1:5\n",
    "                global a\n",
    "                a = a * a\n",
    "            end\n",
    "            print(a)\n",
    "        end"
   ]
  },
  {
   "cell_type": "code",
   "execution_count": 3,
   "id": "0b8fad1b-b4a6-45a2-a790-c540d9035eea",
   "metadata": {},
   "outputs": [
    {
     "name": "stdout",
     "output_type": "stream",
     "text": [
      "4294967296"
     ]
    }
   ],
   "source": [
    "eval(expr)"
   ]
  }
 ],
 "metadata": {
  "kernelspec": {
   "display_name": "Julia 1.9.4",
   "language": "julia",
   "name": "julia-1.9"
  },
  "language_info": {
   "file_extension": ".jl",
   "mimetype": "application/julia",
   "name": "julia",
   "version": "1.9.4"
  }
 },
 "nbformat": 4,
 "nbformat_minor": 5
}
