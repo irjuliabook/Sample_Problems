{
 "cells": [
  {
   "cell_type": "code",
   "execution_count": 3,
   "id": "ada6826c-8a6d-455f-b8a2-78f709b36419",
   "metadata": {},
   "outputs": [],
   "source": [
    "using Printf"
   ]
  },
  {
   "cell_type": "code",
   "execution_count": 8,
   "id": "25e5388a-a199-483d-ad4e-8952ea32ca6f",
   "metadata": {},
   "outputs": [
    {
     "data": {
      "text/plain": [
       "quote\n",
       "    \u001b[90m#= In[8]:2 =#\u001b[39m\n",
       "    local a = 10\n",
       "    \u001b[90m#= In[8]:3 =#\u001b[39m\n",
       "    for i = 1:a\n",
       "        \u001b[90m#= In[8]:4 =#\u001b[39m\n",
       "        \u001b[90m#= In[8]:4 =#\u001b[39m @printf \"% 3s  \" i\n",
       "        \u001b[90m#= In[8]:5 =#\u001b[39m\n",
       "    end\n",
       "    \u001b[90m#= In[8]:6 =#\u001b[39m\n",
       "    println(\"\")\n",
       "end"
      ]
     },
     "execution_count": 8,
     "metadata": {},
     "output_type": "execute_result"
    }
   ],
   "source": [
    "expr = quote\n",
    "            local a = 10\n",
    "            for i=1:a\n",
    "                @printf(\"% 3s  \",i)\n",
    "            end\n",
    "            println(\"\")\n",
    "        end"
   ]
  },
  {
   "cell_type": "code",
   "execution_count": 10,
   "id": "89006de9-0825-4a6d-8c99-9efdac852b7f",
   "metadata": {},
   "outputs": [
    {
     "name": "stdout",
     "output_type": "stream",
     "text": [
      "  1    2    3    4    5    6    7    8    9   10  \n",
      "  1    2    3    4    5    6    7    8    9  \n",
      "  1    2    3    4    5    6    7    8  \n",
      "  1    2    3    4    5    6    7  \n",
      "  1    2    3    4    5    6  \n",
      "  1    2    3    4    5  \n",
      "  1    2    3    4  \n",
      "  1    2    3  \n",
      "  1    2  \n",
      "  1  \n"
     ]
    }
   ],
   "source": [
    "for j=10:-1:1\n",
    "    expr.args[2] = :(local a = $j)\n",
    "    eval(expr)\n",
    "end"
   ]
  },
  {
   "cell_type": "code",
   "execution_count": null,
   "id": "25af3698-3430-4edd-8b56-a18ae29dceae",
   "metadata": {},
   "outputs": [],
   "source": []
  }
 ],
 "metadata": {
  "kernelspec": {
   "display_name": "Julia 1.9.4",
   "language": "julia",
   "name": "julia-1.9"
  },
  "language_info": {
   "file_extension": ".jl",
   "mimetype": "application/julia",
   "name": "julia",
   "version": "1.9.4"
  }
 },
 "nbformat": 4,
 "nbformat_minor": 5
}
