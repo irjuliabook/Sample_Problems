{
 "cells": [
  {
   "cell_type": "code",
   "execution_count": 64,
   "id": "25e5388a-a199-483d-ad4e-8952ea32ca6f",
   "metadata": {},
   "outputs": [],
   "source": [
    "str = \"(1:(1,2,3)  , \\\"a\\\":10, (1,2):[1,2,3,4])\";"
   ]
  },
  {
   "cell_type": "code",
   "execution_count": 65,
   "id": "768a1296-131e-41a0-997b-1721094e4974",
   "metadata": {},
   "outputs": [],
   "source": [
    "new = replace(str,\":\" => \"=>\");"
   ]
  },
  {
   "cell_type": "code",
   "execution_count": 66,
   "id": "55a649f1-47ba-45a0-be64-64709ddf4976",
   "metadata": {},
   "outputs": [],
   "source": [
    "eval(Meta.parse(\"D = Dict$new\"));"
   ]
  },
  {
   "cell_type": "code",
   "execution_count": 67,
   "id": "48d34c30-2892-49e8-8aef-69770f5a4fd1",
   "metadata": {},
   "outputs": [
    {
     "data": {
      "text/plain": [
       "Dict{Any, Any} with 3 entries:\n",
       "  (1, 2) => [1, 2, 3, 4]\n",
       "  \"a\"    => 10\n",
       "  1      => (1, 2, 3)"
      ]
     },
     "execution_count": 67,
     "metadata": {},
     "output_type": "execute_result"
    }
   ],
   "source": [
    "D"
   ]
  }
 ],
 "metadata": {
  "kernelspec": {
   "display_name": "Julia 1.9.4",
   "language": "julia",
   "name": "julia-1.9"
  },
  "language_info": {
   "file_extension": ".jl",
   "mimetype": "application/julia",
   "name": "julia",
   "version": "1.9.4"
  }
 },
 "nbformat": 4,
 "nbformat_minor": 5
}
