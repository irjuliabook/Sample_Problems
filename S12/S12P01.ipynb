{
 "cells": [
  {
   "cell_type": "code",
   "execution_count": 22,
   "id": "ee1df544-64b4-4632-adad-7575a7244ac6",
   "metadata": {},
   "outputs": [],
   "source": [
    "function var_maker(name, var)\n",
    "    return eval(Meta.parse(\"$name = $var\"))\n",
    "end;"
   ]
  },
  {
   "cell_type": "code",
   "execution_count": 23,
   "id": "6e218344-1331-4383-b4ae-1ff533bce414",
   "metadata": {},
   "outputs": [],
   "source": [
    "var_maker(\"Array1\", [1,2,3,[1,2]]);"
   ]
  },
  {
   "cell_type": "code",
   "execution_count": 24,
   "id": "c2513762-6bbf-4615-8210-6bb7819ff652",
   "metadata": {},
   "outputs": [
    {
     "data": {
      "text/plain": [
       "4-element Vector{Any}:\n",
       " 1\n",
       " 2\n",
       " 3\n",
       "  [1, 2]"
      ]
     },
     "execution_count": 24,
     "metadata": {},
     "output_type": "execute_result"
    }
   ],
   "source": [
    "Array1"
   ]
  },
  {
   "cell_type": "code",
   "execution_count": 26,
   "id": "5993e6aa-ebab-4156-8fc3-629e69ffb743",
   "metadata": {},
   "outputs": [],
   "source": [
    "function var_maker2(name, var)\n",
    "    Name = Symbol(\"$name\")\n",
    "    return eval(:($Name = $var))\n",
    "end;"
   ]
  },
  {
   "cell_type": "code",
   "execution_count": 27,
   "id": "f25799ee-e371-4323-a948-2d76334123d2",
   "metadata": {},
   "outputs": [],
   "source": [
    "var_maker2(\"Array2\", [1,2,3,[1,2]]);"
   ]
  },
  {
   "cell_type": "code",
   "execution_count": 28,
   "id": "6dcb8b0a-e923-4a06-9389-7e724b769938",
   "metadata": {},
   "outputs": [
    {
     "data": {
      "text/plain": [
       "4-element Vector{Any}:\n",
       " 1\n",
       " 2\n",
       " 3\n",
       "  [1, 2]"
      ]
     },
     "execution_count": 28,
     "metadata": {},
     "output_type": "execute_result"
    }
   ],
   "source": [
    "Array2"
   ]
  },
  {
   "cell_type": "code",
   "execution_count": null,
   "id": "14a5e514-a150-4c03-a88f-3b37600ab9f9",
   "metadata": {},
   "outputs": [],
   "source": []
  }
 ],
 "metadata": {
  "kernelspec": {
   "display_name": "Julia 1.9.4",
   "language": "julia",
   "name": "julia-1.9"
  },
  "language_info": {
   "file_extension": ".jl",
   "mimetype": "application/julia",
   "name": "julia",
   "version": "1.9.4"
  }
 },
 "nbformat": 4,
 "nbformat_minor": 5
}
