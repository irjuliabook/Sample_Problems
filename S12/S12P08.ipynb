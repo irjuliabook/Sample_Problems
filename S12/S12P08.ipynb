{
 "cells": [
  {
   "cell_type": "code",
   "execution_count": 3,
   "id": "ee1df544-64b4-4632-adad-7575a7244ac6",
   "metadata": {},
   "outputs": [
    {
     "data": {
      "text/plain": [
       "quote\n",
       "    \u001b[90m#= In[3]:2 =#\u001b[39m\n",
       "    a = 10\n",
       "    \u001b[90m#= In[3]:3 =#\u001b[39m\n",
       "    for i = range(1, 10)\n",
       "        \u001b[90m#= In[3]:4 =#\u001b[39m\n",
       "        eval($(Expr(:quote, :(a = (a + $(Expr(:$, :i)) * $(Expr(:$, :i))) - $(Expr(:$, :i)) * a))))\n",
       "        \u001b[90m#= In[3]:5 =#\u001b[39m\n",
       "    end\n",
       "    \u001b[90m#= In[3]:6 =#\u001b[39m\n",
       "    print(a)\n",
       "end"
      ]
     },
     "execution_count": 3,
     "metadata": {},
     "output_type": "execute_result"
    }
   ],
   "source": [
    "expr = quote\n",
    "           a = 10\n",
    "           for i in range(1,10)\n",
    "               eval(:(a = a + $(i)*$(i) - $(i)*a))\n",
    "           end\n",
    "           print(a)\n",
    "       end"
   ]
  },
  {
   "cell_type": "code",
   "execution_count": 4,
   "id": "6e218344-1331-4383-b4ae-1ff533bce414",
   "metadata": {},
   "outputs": [
    {
     "name": "stdout",
     "output_type": "stream",
     "text": [
      "133507"
     ]
    }
   ],
   "source": [
    "eval(expr)"
   ]
  },
  {
   "cell_type": "code",
   "execution_count": null,
   "id": "e028fd9f-895a-4618-b5fd-c399b8e7c0b4",
   "metadata": {},
   "outputs": [],
   "source": []
  }
 ],
 "metadata": {
  "kernelspec": {
   "display_name": "Julia 1.9.4",
   "language": "julia",
   "name": "julia-1.9"
  },
  "language_info": {
   "file_extension": ".jl",
   "mimetype": "application/julia",
   "name": "julia",
   "version": "1.9.4"
  }
 },
 "nbformat": 4,
 "nbformat_minor": 5
}
