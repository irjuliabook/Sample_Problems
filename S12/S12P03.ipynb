{
 "cells": [
  {
   "cell_type": "code",
   "execution_count": 12,
   "id": "ffbed679-df29-4d67-8c27-26b0bba098c7",
   "metadata": {},
   "outputs": [],
   "source": [
    "function_string = \"func(a,b,c,data)\n",
    "                         s = 0\n",
    "                         for v in data\n",
    "                               if v%3==0\n",
    "                                     s = s+a\n",
    "                               elseif v%3==1\n",
    "                                     s = s+b\n",
    "                               else\n",
    "                                     s = s+c\n",
    "                               end\n",
    "                         end\n",
    "                         return s\n",
    "                         \";"
   ]
  },
  {
   "cell_type": "code",
   "execution_count": 13,
   "id": "f9fe2c1c-04c6-4d6d-b504-9b3fba6756ea",
   "metadata": {},
   "outputs": [
    {
     "data": {
      "text/plain": [
       "str_to_func (generic function with 1 method)"
      ]
     },
     "execution_count": 13,
     "metadata": {},
     "output_type": "execute_result"
    }
   ],
   "source": [
    "function str_to_func(str)\n",
    "    new = \"function \" * str * \"end\"\n",
    "    return eval(Meta.parse(new))\n",
    "end"
   ]
  },
  {
   "cell_type": "code",
   "execution_count": 14,
   "id": "73b2211e-717b-484b-aff0-d501d1099101",
   "metadata": {},
   "outputs": [
    {
     "data": {
      "text/plain": [
       "func (generic function with 2 methods)"
      ]
     },
     "execution_count": 14,
     "metadata": {},
     "output_type": "execute_result"
    }
   ],
   "source": [
    "str_to_func(function_string)"
   ]
  },
  {
   "cell_type": "code",
   "execution_count": 15,
   "id": "a192a322-21f3-4ce1-9d3a-194390dc6567",
   "metadata": {},
   "outputs": [
    {
     "data": {
      "text/plain": [
       "12"
      ]
     },
     "execution_count": 15,
     "metadata": {},
     "output_type": "execute_result"
    }
   ],
   "source": [
    "func(1,2,3,(1,2,2,12,34,12))"
   ]
  }
 ],
 "metadata": {
  "kernelspec": {
   "display_name": "Julia 1.9.4",
   "language": "julia",
   "name": "julia-1.9"
  },
  "language_info": {
   "file_extension": ".jl",
   "mimetype": "application/julia",
   "name": "julia",
   "version": "1.9.4"
  }
 },
 "nbformat": 4,
 "nbformat_minor": 5
}
