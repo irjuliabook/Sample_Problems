{
 "cells": [
  {
   "cell_type": "code",
   "execution_count": 11,
   "id": "25e5388a-a199-483d-ad4e-8952ea32ca6f",
   "metadata": {},
   "outputs": [
    {
     "data": {
      "text/plain": [
       "10"
      ]
     },
     "execution_count": 11,
     "metadata": {},
     "output_type": "execute_result"
    }
   ],
   "source": [
    "n = 10"
   ]
  },
  {
   "cell_type": "code",
   "execution_count": 14,
   "id": "f564304c-2a52-4e2c-b707-c49a0bb8cde1",
   "metadata": {},
   "outputs": [],
   "source": [
    "for i=1:n\n",
    "    eval(Meta.parse(\"f$(i)(x) = sin($(i)*x)\"))\n",
    "end"
   ]
  },
  {
   "cell_type": "code",
   "execution_count": 17,
   "id": "e48fe473-0eb2-46e7-b11d-a4d057b7b4ff",
   "metadata": {},
   "outputs": [
    {
     "data": {
      "text/plain": [
       "(1.2246467991473532e-16, 1.0)"
      ]
     },
     "execution_count": 17,
     "metadata": {},
     "output_type": "execute_result"
    }
   ],
   "source": [
    "f1(pi), f1(pi/2)"
   ]
  },
  {
   "cell_type": "code",
   "execution_count": 18,
   "id": "89af76df-5e4a-40f6-a230-d873fed0b5ea",
   "metadata": {},
   "outputs": [
    {
     "data": {
      "text/plain": [
       "(-2.4492935982947064e-16, 1.2246467991473532e-16)"
      ]
     },
     "execution_count": 18,
     "metadata": {},
     "output_type": "execute_result"
    }
   ],
   "source": [
    "f2(pi), f2(pi/2)"
   ]
  },
  {
   "cell_type": "code",
   "execution_count": null,
   "id": "20cc0395-8e03-4fec-9fc9-434321f22eb8",
   "metadata": {},
   "outputs": [],
   "source": []
  }
 ],
 "metadata": {
  "kernelspec": {
   "display_name": "Julia 1.9.4",
   "language": "julia",
   "name": "julia-1.9"
  },
  "language_info": {
   "file_extension": ".jl",
   "mimetype": "application/julia",
   "name": "julia",
   "version": "1.9.4"
  }
 },
 "nbformat": 4,
 "nbformat_minor": 5
}
