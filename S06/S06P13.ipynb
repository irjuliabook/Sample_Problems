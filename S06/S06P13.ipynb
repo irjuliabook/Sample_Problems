{
 "cells": [
  {
   "cell_type": "code",
   "execution_count": 1,
   "id": "ac6e19d5-c8e6-4943-83f1-bda73d426f2f",
   "metadata": {},
   "outputs": [],
   "source": [
    "M = [1 2 3;4 5 6;7 8 9];"
   ]
  },
  {
   "cell_type": "code",
   "execution_count": 2,
   "id": "2cab94f2-6936-4a2c-a24b-96c7907f3ce2",
   "metadata": {},
   "outputs": [
    {
     "name": "stdout",
     "output_type": "stream",
     "text": [
      "row 1 => 6.0\n",
      "row 2 => 15.0\n",
      "row 3 => 24.0\n"
     ]
    }
   ],
   "source": [
    "for i=1:size(M,1)\n",
    "      sum = 0.0\n",
    "      for j=1:size(M,2)\n",
    "            sum = sum + M[i,j]\n",
    "      end\n",
    "      println(\"row $(i) => \", sum)\n",
    "end"
   ]
  },
  {
   "cell_type": "code",
   "execution_count": null,
   "id": "69cdf735-04d8-4645-923b-2df4eb33bd76",
   "metadata": {},
   "outputs": [],
   "source": []
  }
 ],
 "metadata": {
  "kernelspec": {
   "display_name": "Julia 1.9.4",
   "language": "julia",
   "name": "julia-1.9"
  },
  "language_info": {
   "file_extension": ".jl",
   "mimetype": "application/julia",
   "name": "julia",
   "version": "1.9.4"
  }
 },
 "nbformat": 4,
 "nbformat_minor": 5
}
