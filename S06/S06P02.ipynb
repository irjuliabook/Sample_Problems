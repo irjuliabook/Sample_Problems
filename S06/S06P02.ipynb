{
 "cells": [
  {
   "cell_type": "code",
   "execution_count": 1,
   "id": "25e5388a-a199-483d-ad4e-8952ea32ca6f",
   "metadata": {},
   "outputs": [],
   "source": [
    "s = \"Hi, I have 5 toys.\";\n",
    "new_s = \"\";"
   ]
  },
  {
   "cell_type": "code",
   "execution_count": 2,
   "id": "60655a1b-0d7e-4380-9310-342c54083a70",
   "metadata": {},
   "outputs": [],
   "source": [
    "for i in s\n",
    "      if i != '5'\n",
    "            new_s = new_s * i\n",
    "      end\n",
    "end"
   ]
  },
  {
   "cell_type": "code",
   "execution_count": 3,
   "id": "dd58c1e9-c43f-4010-b03d-6fce77053ae7",
   "metadata": {},
   "outputs": [
    {
     "name": "stdout",
     "output_type": "stream",
     "text": [
      "Hi, I have  toys."
     ]
    }
   ],
   "source": [
    "print(new_s)"
   ]
  },
  {
   "cell_type": "code",
   "execution_count": null,
   "id": "74c8ba45-8799-4f86-b542-e7f7a6124c47",
   "metadata": {},
   "outputs": [],
   "source": []
  }
 ],
 "metadata": {
  "kernelspec": {
   "display_name": "Julia 1.9.4",
   "language": "julia",
   "name": "julia-1.9"
  },
  "language_info": {
   "file_extension": ".jl",
   "mimetype": "application/julia",
   "name": "julia",
   "version": "1.9.4"
  }
 },
 "nbformat": 4,
 "nbformat_minor": 5
}
