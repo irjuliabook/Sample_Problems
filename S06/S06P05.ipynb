{
 "cells": [
  {
   "cell_type": "code",
   "execution_count": 1,
   "id": "4ae2d8ad-6a80-4056-afd9-f907efe0fa2d",
   "metadata": {},
   "outputs": [],
   "source": [
    "s = \"string1 char1 list1 char1\";\n",
    "replaced = \"new\";"
   ]
  },
  {
   "cell_type": "code",
   "execution_count": 2,
   "id": "82096127-735f-45b2-9a89-60f6758b6310",
   "metadata": {},
   "outputs": [
    {
     "data": {
      "text/plain": [
       "\"string1 new list1 new\""
      ]
     },
     "execution_count": 2,
     "metadata": {},
     "output_type": "execute_result"
    }
   ],
   "source": [
    "if contains(s, \"char1\")\n",
    "      replace(s, \"char1\" => replaced)\n",
    "else\n",
    "      print(\"no char1 in $(s)\")\n",
    "end"
   ]
  },
  {
   "cell_type": "code",
   "execution_count": null,
   "id": "79895cc2-f9e1-4598-9253-3ec9c419b6aa",
   "metadata": {},
   "outputs": [],
   "source": []
  }
 ],
 "metadata": {
  "kernelspec": {
   "display_name": "Julia 1.9.4",
   "language": "julia",
   "name": "julia-1.9"
  },
  "language_info": {
   "file_extension": ".jl",
   "mimetype": "application/julia",
   "name": "julia",
   "version": "1.9.4"
  }
 },
 "nbformat": 4,
 "nbformat_minor": 5
}
