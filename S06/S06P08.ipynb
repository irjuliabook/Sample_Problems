{
 "cells": [
  {
   "cell_type": "code",
   "execution_count": 1,
   "id": "4ae2d8ad-6a80-4056-afd9-f907efe0fa2d",
   "metadata": {},
   "outputs": [],
   "source": [
    "D = Dict(\"Name\" => \"Ali\", \"Age\" => 20, \"Physics\" => 8, \"Math\" => 5);"
   ]
  },
  {
   "cell_type": "code",
   "execution_count": 2,
   "id": "d5c971b9-97ce-445a-af38-8af639addfd4",
   "metadata": {},
   "outputs": [],
   "source": [
    "for (k,v) in D\n",
    "      if typeof(v) == Int\n",
    "            delete!(D,k)\n",
    "      end\n",
    "end"
   ]
  },
  {
   "cell_type": "code",
   "execution_count": 3,
   "id": "532dd224-77ba-4757-a5ac-8021544af145",
   "metadata": {},
   "outputs": [
    {
     "name": "stdout",
     "output_type": "stream",
     "text": [
      "Dict{String, Any}(\"Name\" => \"Ali\")"
     ]
    }
   ],
   "source": [
    "print(D)"
   ]
  },
  {
   "cell_type": "code",
   "execution_count": null,
   "id": "9a21b0ac-4c4d-46f4-b55c-e04b61f1827a",
   "metadata": {},
   "outputs": [],
   "source": []
  }
 ],
 "metadata": {
  "kernelspec": {
   "display_name": "Julia 1.9.4",
   "language": "julia",
   "name": "julia-1.9"
  },
  "language_info": {
   "file_extension": ".jl",
   "mimetype": "application/julia",
   "name": "julia",
   "version": "1.9.4"
  }
 },
 "nbformat": 4,
 "nbformat_minor": 5
}
