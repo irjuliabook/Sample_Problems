{
 "cells": [
  {
   "cell_type": "code",
   "execution_count": 1,
   "id": "ac6e19d5-c8e6-4943-83f1-bda73d426f2f",
   "metadata": {},
   "outputs": [],
   "source": [
    "m = [1 2 3; 4 5 6; 7 8 9];\n",
    "n = [2 2 7; 1 12 6; 9 4 1];"
   ]
  },
  {
   "cell_type": "code",
   "execution_count": 2,
   "id": "9f395f14-630e-4392-8ac2-81fc4a86b82f",
   "metadata": {},
   "outputs": [
    {
     "data": {
      "text/plain": [
       "6-element Vector{Tuple{Int64, Int64}}:\n",
       " (7, 9)\n",
       " (5, 12)\n",
       " (8, 4)\n",
       " (3, 7)\n",
       " (6, 6)\n",
       " (9, 1)"
      ]
     },
     "execution_count": 2,
     "metadata": {},
     "output_type": "execute_result"
    }
   ],
   "source": [
    "result = [ i for i in zip(m,n) if 5 <= (i[1]+i[2])/2 <= 10]"
   ]
  },
  {
   "cell_type": "code",
   "execution_count": null,
   "id": "fc2cddc5-f31b-4714-9e3c-c6eeedb92421",
   "metadata": {},
   "outputs": [],
   "source": []
  }
 ],
 "metadata": {
  "kernelspec": {
   "display_name": "Julia 1.9.4",
   "language": "julia",
   "name": "julia-1.9"
  },
  "language_info": {
   "file_extension": ".jl",
   "mimetype": "application/julia",
   "name": "julia",
   "version": "1.9.4"
  }
 },
 "nbformat": 4,
 "nbformat_minor": 5
}
