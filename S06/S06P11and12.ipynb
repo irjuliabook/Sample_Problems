{
 "cells": [
  {
   "cell_type": "code",
   "execution_count": 1,
   "id": "ac6e19d5-c8e6-4943-83f1-bda73d426f2f",
   "metadata": {},
   "outputs": [],
   "source": [
    "s1 = \"abc d ad*3nvs acn\";\n",
    "s2 = \"ansf wef3 24r * 30\";"
   ]
  },
  {
   "cell_type": "code",
   "execution_count": 2,
   "id": "20ba5d35-7384-49bf-9d87-e14dd25db075",
   "metadata": {},
   "outputs": [],
   "source": [
    "set1 = Set(s1);\n",
    "set2 = Set(s2);"
   ]
  },
  {
   "cell_type": "code",
   "execution_count": 3,
   "id": "f006c749-0341-44dd-a2f2-6dc8778c2ad6",
   "metadata": {},
   "outputs": [
    {
     "data": {
      "text/plain": [
       "Set{Char} with 6 elements:\n",
       "  'n'\n",
       "  '3'\n",
       "  'a'\n",
       "  's'\n",
       "  '*'\n",
       "  ' '"
      ]
     },
     "execution_count": 3,
     "metadata": {},
     "output_type": "execute_result"
    }
   ],
   "source": [
    "s1s2 = intersect(set1, set2)"
   ]
  },
  {
   "cell_type": "code",
   "execution_count": 4,
   "id": "b524ed66-439d-4d88-b17f-36a9074e0ce8",
   "metadata": {},
   "outputs": [],
   "source": [
    "for i in s1s2\n",
    "      s1 = replace(s1, i => \"\");\n",
    "      s2 = replace(s2, i => \"\");\n",
    "end"
   ]
  },
  {
   "cell_type": "code",
   "execution_count": 5,
   "id": "c697e425-3f2a-4201-9299-88adcf3718b9",
   "metadata": {},
   "outputs": [
    {
     "name": "stdout",
     "output_type": "stream",
     "text": [
      "bcddvc\n",
      "fwef24r0"
     ]
    }
   ],
   "source": [
    "println(s1);\n",
    "print(s2);"
   ]
  },
  {
   "cell_type": "code",
   "execution_count": null,
   "id": "0f7e7d50-a390-4816-bb15-49be184fcb38",
   "metadata": {},
   "outputs": [],
   "source": []
  }
 ],
 "metadata": {
  "kernelspec": {
   "display_name": "Julia 1.9.4",
   "language": "julia",
   "name": "julia-1.9"
  },
  "language_info": {
   "file_extension": ".jl",
   "mimetype": "application/julia",
   "name": "julia",
   "version": "1.9.4"
  }
 },
 "nbformat": 4,
 "nbformat_minor": 5
}
