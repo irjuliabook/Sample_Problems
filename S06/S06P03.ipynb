{
 "cells": [
  {
   "cell_type": "code",
   "execution_count": 1,
   "id": "25e5388a-a199-483d-ad4e-8952ea32ca6f",
   "metadata": {},
   "outputs": [],
   "source": [
    "s = \"Hi. My name is Ali. I am student.\";\n",
    "first = findfirst('a',s);\n",
    "last = findlast('a',s);"
   ]
  },
  {
   "cell_type": "code",
   "execution_count": 2,
   "id": "dc5d9f52-606f-4d1f-9247-df3a6e7bb7f4",
   "metadata": {},
   "outputs": [
    {
     "data": {
      "text/plain": [
       "\"Hi. My nAme is Ali. I *m student.\""
      ]
     },
     "execution_count": 2,
     "metadata": {},
     "output_type": "execute_result"
    }
   ],
   "source": [
    "new_s = s[1:first-1] * 'A' * s[first+1:last-1] * '*' * s[last+1:end]"
   ]
  },
  {
   "cell_type": "code",
   "execution_count": null,
   "id": "5e7380c7-58f3-4160-8472-486a2b88f926",
   "metadata": {},
   "outputs": [],
   "source": []
  }
 ],
 "metadata": {
  "kernelspec": {
   "display_name": "Julia 1.9.4",
   "language": "julia",
   "name": "julia-1.9"
  },
  "language_info": {
   "file_extension": ".jl",
   "mimetype": "application/julia",
   "name": "julia",
   "version": "1.9.4"
  }
 },
 "nbformat": 4,
 "nbformat_minor": 5
}
