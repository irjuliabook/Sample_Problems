{
 "cells": [
  {
   "cell_type": "code",
   "execution_count": 1,
   "id": "25e5388a-a199-483d-ad4e-8952ea32ca6f",
   "metadata": {},
   "outputs": [],
   "source": [
    "Name1 = \"Ali\"; Name2 = \"Mohammad\";\n",
    "Age1 = 19; Age2 = 20;\n",
    "Average1 = 17; Average2 = 16.75;"
   ]
  },
  {
   "cell_type": "code",
   "execution_count": 2,
   "id": "f7541476-d2f5-4545-95cb-652dec0e346b",
   "metadata": {},
   "outputs": [
    {
     "name": "stdout",
     "output_type": "stream",
     "text": [
      "Ali       19        17        \n",
      "Mohammad  20        16.75     \n"
     ]
    }
   ],
   "source": [
    "println(rpad(Name1,10,\" \"),rpad(\"$(Age1)\",10,\" \"),rpad(\"$(Average1)\",10,\" \"))\n",
    "println(rpad(Name2,10,\" \"),rpad(\"$(Age2)\",10,\" \"),rpad(\"$(Average2)\",10,\" \"))"
   ]
  }
 ],
 "metadata": {
  "kernelspec": {
   "display_name": "Julia 1.9.4",
   "language": "julia",
   "name": "julia-1.9"
  },
  "language_info": {
   "file_extension": ".jl",
   "mimetype": "application/julia",
   "name": "julia",
   "version": "1.9.4"
  }
 },
 "nbformat": 4,
 "nbformat_minor": 5
}
