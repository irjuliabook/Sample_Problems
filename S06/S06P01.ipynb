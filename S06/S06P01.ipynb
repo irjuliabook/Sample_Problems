{
 "cells": [
  {
   "cell_type": "code",
   "execution_count": 1,
   "id": "25e5388a-a199-483d-ad4e-8952ea32ca6f",
   "metadata": {},
   "outputs": [
    {
     "name": "stdout",
     "output_type": "stream",
     "text": [
      "s = abcdefg ---> gbcdefa"
     ]
    }
   ],
   "source": [
    "s = \"abcdefg\";\n",
    "new_s = s[end]*s[2:end-1]*s[1];\n",
    "print(\"s = \",s,\" ---> \",new_s)"
   ]
  },
  {
   "cell_type": "code",
   "execution_count": null,
   "id": "f3fda6eb-2315-4001-b80d-0919bdb7aa3d",
   "metadata": {},
   "outputs": [],
   "source": []
  }
 ],
 "metadata": {
  "kernelspec": {
   "display_name": "Julia 1.9.4",
   "language": "julia",
   "name": "julia-1.9"
  },
  "language_info": {
   "file_extension": ".jl",
   "mimetype": "application/julia",
   "name": "julia",
   "version": "1.9.4"
  }
 },
 "nbformat": 4,
 "nbformat_minor": 5
}
