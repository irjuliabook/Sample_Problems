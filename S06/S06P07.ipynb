{
 "cells": [
  {
   "cell_type": "code",
   "execution_count": 1,
   "id": "25e5388a-a199-483d-ad4e-8952ea32ca6f",
   "metadata": {},
   "outputs": [],
   "source": [
    "t = (3,12,4,23,12,32,7);\n",
    "len = length(t);"
   ]
  },
  {
   "cell_type": "code",
   "execution_count": 2,
   "id": "2dec452e-6ace-46f9-8bee-9648433e989e",
   "metadata": {},
   "outputs": [],
   "source": [
    "for i=1:len\n",
    "      if t[i]<10\n",
    "            t = tuple(t[begin:i-1]...,10,t[i+1:end]...)\n",
    "      end\n",
    "end"
   ]
  },
  {
   "cell_type": "code",
   "execution_count": 3,
   "id": "8eba50ed-af0e-4304-847b-a43b20200269",
   "metadata": {},
   "outputs": [
    {
     "name": "stdout",
     "output_type": "stream",
     "text": [
      "(10, 12, 10, 23, 12, 32, 10)"
     ]
    }
   ],
   "source": [
    "print(t)"
   ]
  },
  {
   "cell_type": "code",
   "execution_count": null,
   "id": "7a2b0ca2-cb8f-4359-ac95-18cfce621bff",
   "metadata": {},
   "outputs": [],
   "source": []
  }
 ],
 "metadata": {
  "kernelspec": {
   "display_name": "Julia 1.9.4",
   "language": "julia",
   "name": "julia-1.9"
  },
  "language_info": {
   "file_extension": ".jl",
   "mimetype": "application/julia",
   "name": "julia",
   "version": "1.9.4"
  }
 },
 "nbformat": 4,
 "nbformat_minor": 5
}
