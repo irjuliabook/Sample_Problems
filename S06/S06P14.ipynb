{
 "cells": [
  {
   "cell_type": "code",
   "execution_count": 1,
   "id": "ac6e19d5-c8e6-4943-83f1-bda73d426f2f",
   "metadata": {},
   "outputs": [
    {
     "data": {
      "text/plain": [
       "2×2×2 Array{Int64, 3}:\n",
       "[:, :, 1] =\n",
       " 1  2\n",
       " 1  5\n",
       "\n",
       "[:, :, 2] =\n",
       " 1  1\n",
       " 3  4"
      ]
     },
     "execution_count": 1,
     "metadata": {},
     "output_type": "execute_result"
    }
   ],
   "source": [
    "using LinearAlgebra\n",
    "m = [1 2;1 5;;;1 1;3 4]"
   ]
  },
  {
   "cell_type": "code",
   "execution_count": 2,
   "id": "20ba5d35-7384-49bf-9d87-e14dd25db075",
   "metadata": {},
   "outputs": [
    {
     "name": "stdout",
     "output_type": "stream",
     "text": [
      "for 1 Det is : 3.0\n",
      "for 2 Det is : 0.9999999999999998\n"
     ]
    }
   ],
   "source": [
    "for i=1:size(m,3)\n",
    "      sub = m[:,:,i];\n",
    "      println(\"for $(i) Det is : \", LinearAlgebra.det(sub))\n",
    "end"
   ]
  },
  {
   "cell_type": "code",
   "execution_count": null,
   "id": "b524ed66-439d-4d88-b17f-36a9074e0ce8",
   "metadata": {},
   "outputs": [],
   "source": []
  }
 ],
 "metadata": {
  "kernelspec": {
   "display_name": "Julia 1.9.4",
   "language": "julia",
   "name": "julia-1.9"
  },
  "language_info": {
   "file_extension": ".jl",
   "mimetype": "application/julia",
   "name": "julia",
   "version": "1.9.4"
  }
 },
 "nbformat": 4,
 "nbformat_minor": 5
}
