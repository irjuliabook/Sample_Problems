{
 "cells": [
  {
   "cell_type": "code",
   "execution_count": 1,
   "id": "ac6e19d5-c8e6-4943-83f1-bda73d426f2f",
   "metadata": {},
   "outputs": [],
   "source": [
    "m = [1 2 3; 4 5 6; 7 8 9];\n",
    "new_m = [];"
   ]
  },
  {
   "cell_type": "code",
   "execution_count": 2,
   "id": "2cab94f2-6936-4a2c-a24b-96c7907f3ce2",
   "metadata": {},
   "outputs": [],
   "source": [
    "for i in m\n",
    "      if 3<=i<=7\n",
    "            push!(new_m,i)\n",
    "      end\n",
    "end"
   ]
  },
  {
   "cell_type": "code",
   "execution_count": 4,
   "id": "69cdf735-04d8-4645-923b-2df4eb33bd76",
   "metadata": {},
   "outputs": [
    {
     "data": {
      "text/plain": [
       "5-element Vector{Any}:\n",
       " 4\n",
       " 7\n",
       " 5\n",
       " 3\n",
       " 6"
      ]
     },
     "execution_count": 4,
     "metadata": {},
     "output_type": "execute_result"
    }
   ],
   "source": [
    "new_m"
   ]
  },
  {
   "cell_type": "code",
   "execution_count": null,
   "id": "76965418-9a00-4068-a69d-9096d442cbe0",
   "metadata": {},
   "outputs": [],
   "source": []
  }
 ],
 "metadata": {
  "kernelspec": {
   "display_name": "Julia 1.9.4",
   "language": "julia",
   "name": "julia-1.9"
  },
  "language_info": {
   "file_extension": ".jl",
   "mimetype": "application/julia",
   "name": "julia",
   "version": "1.9.4"
  }
 },
 "nbformat": 4,
 "nbformat_minor": 5
}
