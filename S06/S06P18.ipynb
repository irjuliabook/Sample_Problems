{
 "cells": [
  {
   "cell_type": "code",
   "execution_count": 5,
   "id": "4ae2d8ad-6a80-4056-afd9-f907efe0fa2d",
   "metadata": {},
   "outputs": [],
   "source": [
    "n = 5;"
   ]
  },
  {
   "cell_type": "code",
   "execution_count": 6,
   "id": "71925fbf-5856-4c99-87dd-e0c0bccded7e",
   "metadata": {},
   "outputs": [
    {
     "data": {
      "text/plain": [
       "5-element Vector{Vector{Int64}}:\n",
       " [1]\n",
       " [1, 2]\n",
       " [1, 2, 3]\n",
       " [1, 2, 3, 4]\n",
       " [1, 2, 3, 4, 5]"
      ]
     },
     "execution_count": 6,
     "metadata": {},
     "output_type": "execute_result"
    }
   ],
   "source": [
    "m = [ [j for j=1:i] for i=1:n]"
   ]
  },
  {
   "cell_type": "code",
   "execution_count": null,
   "id": "e7cf02dc-4aa0-4925-99fd-c767020b156c",
   "metadata": {},
   "outputs": [],
   "source": []
  }
 ],
 "metadata": {
  "kernelspec": {
   "display_name": "Julia 1.9.4",
   "language": "julia",
   "name": "julia-1.9"
  },
  "language_info": {
   "file_extension": ".jl",
   "mimetype": "application/julia",
   "name": "julia",
   "version": "1.9.4"
  }
 },
 "nbformat": 4,
 "nbformat_minor": 5
}
