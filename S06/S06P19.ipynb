{
 "cells": [
  {
   "cell_type": "code",
   "execution_count": 1,
   "id": "4ae2d8ad-6a80-4056-afd9-f907efe0fa2d",
   "metadata": {},
   "outputs": [],
   "source": [
    "m = [1 2 3\n",
    "         4 5 6\n",
    "         1 2 4];\n",
    "a = [1, 4, 5];"
   ]
  },
  {
   "cell_type": "code",
   "execution_count": 2,
   "id": "d5c971b9-97ce-445a-af38-8af639addfd4",
   "metadata": {},
   "outputs": [
    {
     "data": {
      "text/plain": [
       "3×3 Matrix{Union{Nothing, Int64}}:\n",
       " 1   nothing   nothing\n",
       " 2  3          nothing\n",
       " 1   nothing  2"
      ]
     },
     "execution_count": 2,
     "metadata": {},
     "output_type": "execute_result"
    }
   ],
   "source": [
    "result = indexin(m,a)"
   ]
  },
  {
   "cell_type": "code",
   "execution_count": 3,
   "id": "5b5ea70c-b962-4dc8-8f99-eda3a6ff5f15",
   "metadata": {},
   "outputs": [
    {
     "name": "stdout",
     "output_type": "stream",
     "text": [
      "value a[1] = 1 repeat: 2\n",
      "value a[2] = 4 repeat: 2\n",
      "value a[3] = 5 repeat: 1\n"
     ]
    }
   ],
   "source": [
    "for (c,v) in enumerate(a)\n",
    "       count = 0\n",
    "       for j in result\n",
    "             if j == c\n",
    "                   count = count + 1\n",
    "             end\n",
    "       end\n",
    "       println(\"value a[$(c)] = $(v) repeat: \",count)\n",
    "end"
   ]
  },
  {
   "cell_type": "code",
   "execution_count": null,
   "id": "2d88dbd8-d261-4819-b654-8d5a05270c37",
   "metadata": {},
   "outputs": [],
   "source": []
  }
 ],
 "metadata": {
  "kernelspec": {
   "display_name": "Julia 1.9.4",
   "language": "julia",
   "name": "julia-1.9"
  },
  "language_info": {
   "file_extension": ".jl",
   "mimetype": "application/julia",
   "name": "julia",
   "version": "1.9.4"
  }
 },
 "nbformat": 4,
 "nbformat_minor": 5
}
