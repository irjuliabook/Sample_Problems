{
 "cells": [
  {
   "cell_type": "code",
   "execution_count": 1,
   "id": "ac6e19d5-c8e6-4943-83f1-bda73d426f2f",
   "metadata": {},
   "outputs": [
    {
     "data": {
      "text/plain": [
       "Set{Int64} with 7 elements:\n",
       "  5\n",
       "  7\n",
       "  1\n",
       "  4\n",
       "  6\n",
       "  2\n",
       "  3"
      ]
     },
     "execution_count": 1,
     "metadata": {},
     "output_type": "execute_result"
    }
   ],
   "source": [
    "t = (1,2,3,4,1,2,6,7,4,2,5,2,2,1);\n",
    "s = Set(t)"
   ]
  },
  {
   "cell_type": "code",
   "execution_count": 2,
   "id": "9f395f14-630e-4392-8ac2-81fc4a86b82f",
   "metadata": {},
   "outputs": [
    {
     "data": {
      "text/plain": [
       "(5, 7, 1, 4, 6, 2, 3)"
      ]
     },
     "execution_count": 2,
     "metadata": {},
     "output_type": "execute_result"
    }
   ],
   "source": [
    "t = tuple(s...)"
   ]
  },
  {
   "cell_type": "code",
   "execution_count": null,
   "id": "b0c496b0-0c8e-4d21-85aa-63fc18307ef9",
   "metadata": {},
   "outputs": [],
   "source": []
  }
 ],
 "metadata": {
  "kernelspec": {
   "display_name": "Julia 1.9.4",
   "language": "julia",
   "name": "julia-1.9"
  },
  "language_info": {
   "file_extension": ".jl",
   "mimetype": "application/julia",
   "name": "julia",
   "version": "1.9.4"
  }
 },
 "nbformat": 4,
 "nbformat_minor": 5
}
