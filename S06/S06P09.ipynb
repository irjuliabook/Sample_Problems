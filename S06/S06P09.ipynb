{
 "cells": [
  {
   "cell_type": "code",
   "execution_count": 1,
   "id": "4ae2d8ad-6a80-4056-afd9-f907efe0fa2d",
   "metadata": {},
   "outputs": [],
   "source": [
    "D = Dict(\"A\"=>1, 2=>\"B\", \"C\"=>3);\n",
    "tkey = tuple(keys(D)...);\n",
    "tvalue = tuple(values(D)...);"
   ]
  },
  {
   "cell_type": "code",
   "execution_count": 2,
   "id": "71925fbf-5856-4c99-87dd-e0c0bccded7e",
   "metadata": {},
   "outputs": [],
   "source": [
    "for (k,v) in D\n",
    "      delete!(D,k)\n",
    "end"
   ]
  },
  {
   "cell_type": "code",
   "execution_count": 3,
   "id": "efd95e49-d757-4c74-bf18-93f557f99396",
   "metadata": {},
   "outputs": [],
   "source": [
    "for i=1:length(tkey)\n",
    "      D[tvalue[i]] = tkey[i]\n",
    "end"
   ]
  },
  {
   "cell_type": "code",
   "execution_count": 4,
   "id": "a23391c6-fc9d-48fa-8214-b8dd53c0f74c",
   "metadata": {},
   "outputs": [
    {
     "name": "stdout",
     "output_type": "stream",
     "text": [
      "Dict{Any, Any}(\"B\" => 2, 3 => \"C\", 1 => \"A\")"
     ]
    }
   ],
   "source": [
    "print(D)"
   ]
  },
  {
   "cell_type": "code",
   "execution_count": null,
   "id": "58daa788-c1fe-4bbb-8c9d-63582395508c",
   "metadata": {},
   "outputs": [],
   "source": []
  }
 ],
 "metadata": {
  "kernelspec": {
   "display_name": "Julia 1.9.4",
   "language": "julia",
   "name": "julia-1.9"
  },
  "language_info": {
   "file_extension": ".jl",
   "mimetype": "application/julia",
   "name": "julia",
   "version": "1.9.4"
  }
 },
 "nbformat": 4,
 "nbformat_minor": 5
}
