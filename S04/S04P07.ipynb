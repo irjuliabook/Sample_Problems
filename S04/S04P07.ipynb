{
 "cells": [
  {
   "cell_type": "code",
   "execution_count": 1,
   "id": "5a628c54-05a2-404c-8555-b8266d9fb788",
   "metadata": {},
   "outputs": [],
   "source": [
    "x = 12;"
   ]
  },
  {
   "cell_type": "code",
   "execution_count": 2,
   "id": "23da52d5-e603-485c-9ea2-77acf2000584",
   "metadata": {},
   "outputs": [],
   "source": [
    "value1 = 2*sin(x)*cos(x);\n",
    "value2 = sin(2*x);"
   ]
  },
  {
   "cell_type": "code",
   "execution_count": 3,
   "id": "faaeca8b-2d31-465d-91c9-28309bc58456",
   "metadata": {},
   "outputs": [
    {
     "data": {
      "text/plain": [
       "false"
      ]
     },
     "execution_count": 3,
     "metadata": {},
     "output_type": "execute_result"
    }
   ],
   "source": [
    "value1 == value2"
   ]
  },
  {
   "cell_type": "code",
   "execution_count": 4,
   "id": "76acb844-c722-4403-85b2-bcc2473800a7",
   "metadata": {},
   "outputs": [
    {
     "data": {
      "text/plain": [
       "-1.1102230246251565e-16"
      ]
     },
     "execution_count": 4,
     "metadata": {},
     "output_type": "execute_result"
    }
   ],
   "source": [
    "value2 - value1"
   ]
  },
  {
   "cell_type": "code",
   "execution_count": null,
   "id": "5476d0c0-b603-4914-bc1d-46d11bf9c732",
   "metadata": {},
   "outputs": [],
   "source": []
  }
 ],
 "metadata": {
  "kernelspec": {
   "display_name": "Julia 1.9.4",
   "language": "julia",
   "name": "julia-1.9"
  },
  "language_info": {
   "file_extension": ".jl",
   "mimetype": "application/julia",
   "name": "julia",
   "version": "1.9.4"
  }
 },
 "nbformat": 4,
 "nbformat_minor": 5
}
