{
 "cells": [
  {
   "cell_type": "code",
   "execution_count": 1,
   "id": "390a68ad-c3cb-4a72-a0d6-76292fdaf6a6",
   "metadata": {},
   "outputs": [
    {
     "data": {
      "text/plain": [
       "true"
      ]
     },
     "execution_count": 1,
     "metadata": {},
     "output_type": "execute_result"
    }
   ],
   "source": [
    "1 <= 5 >= 3"
   ]
  },
  {
   "cell_type": "code",
   "execution_count": 2,
   "id": "efe7d476-cb8b-46be-a8cd-6fcdad8b7494",
   "metadata": {},
   "outputs": [
    {
     "data": {
      "text/plain": [
       "true"
      ]
     },
     "execution_count": 2,
     "metadata": {},
     "output_type": "execute_result"
    }
   ],
   "source": [
    "-12 <= -4 <= -3"
   ]
  },
  {
   "cell_type": "code",
   "execution_count": 3,
   "id": "bce5ce02-410e-45c9-9a1f-ea8282edc460",
   "metadata": {},
   "outputs": [
    {
     "data": {
      "text/plain": [
       "false"
      ]
     },
     "execution_count": 3,
     "metadata": {},
     "output_type": "execute_result"
    }
   ],
   "source": [
    "3//4 >= 4//5 <= 7//10"
   ]
  },
  {
   "cell_type": "code",
   "execution_count": null,
   "id": "ac50375c-6f2f-4519-955c-d13f0729d65b",
   "metadata": {},
   "outputs": [],
   "source": []
  }
 ],
 "metadata": {
  "kernelspec": {
   "display_name": "Julia 1.9.4",
   "language": "julia",
   "name": "julia-1.9"
  },
  "language_info": {
   "file_extension": ".jl",
   "mimetype": "application/julia",
   "name": "julia",
   "version": "1.9.4"
  }
 },
 "nbformat": 4,
 "nbformat_minor": 5
}
