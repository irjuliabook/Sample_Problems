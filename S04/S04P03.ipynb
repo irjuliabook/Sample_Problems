{
 "cells": [
  {
   "cell_type": "code",
   "execution_count": 1,
   "id": "f23a859a-5827-427b-94d6-74338c16b993",
   "metadata": {},
   "outputs": [
    {
     "data": {
      "text/plain": [
       "(31, 5, 3, 48)"
      ]
     },
     "execution_count": 1,
     "metadata": {},
     "output_type": "execute_result"
    }
   ],
   "source": [
    "(23 | 12, 13 & 7, 12 >> 2, 12 << 2)"
   ]
  },
  {
   "cell_type": "code",
   "execution_count": 3,
   "id": "3afb6738-45a8-45bd-9f93-60673e5e4ced",
   "metadata": {},
   "outputs": [
    {
     "data": {
      "text/plain": [
       "(108, 8, -3, -8)"
      ]
     },
     "execution_count": 3,
     "metadata": {},
     "output_type": "execute_result"
    }
   ],
   "source": [
    "(125 ⊻ 17, 13 &~ 7, 13 |~ 7, ~7)"
   ]
  },
  {
   "cell_type": "code",
   "execution_count": null,
   "id": "bb1c1f4b-15a6-4c7e-8b4f-eb31d7dd4f1a",
   "metadata": {},
   "outputs": [],
   "source": []
  }
 ],
 "metadata": {
  "kernelspec": {
   "display_name": "Julia 1.9.4",
   "language": "julia",
   "name": "julia-1.9"
  },
  "language_info": {
   "file_extension": ".jl",
   "mimetype": "application/julia",
   "name": "julia",
   "version": "1.9.4"
  }
 },
 "nbformat": 4,
 "nbformat_minor": 5
}
