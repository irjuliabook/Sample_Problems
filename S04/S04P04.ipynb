{
 "cells": [
  {
   "cell_type": "code",
   "execution_count": 1,
   "id": "20901b13-8adf-4739-bcf4-c58ec31fb0c9",
   "metadata": {},
   "outputs": [
    {
     "data": {
      "text/plain": [
       "true"
      ]
     },
     "execution_count": 1,
     "metadata": {},
     "output_type": "execute_result"
    }
   ],
   "source": [
    "5 >= 3"
   ]
  },
  {
   "cell_type": "code",
   "execution_count": 2,
   "id": "3b90bfb9-3fa5-4751-9a91-f83a5a583333",
   "metadata": {},
   "outputs": [
    {
     "data": {
      "text/plain": [
       "true"
      ]
     },
     "execution_count": 2,
     "metadata": {},
     "output_type": "execute_result"
    }
   ],
   "source": [
    "-12 <= -4"
   ]
  },
  {
   "cell_type": "code",
   "execution_count": 3,
   "id": "8dffc81b-ddb2-4530-b110-58a551d4962b",
   "metadata": {},
   "outputs": [
    {
     "data": {
      "text/plain": [
       "false"
      ]
     },
     "execution_count": 3,
     "metadata": {},
     "output_type": "execute_result"
    }
   ],
   "source": [
    "3//4 >= 4//5"
   ]
  },
  {
   "cell_type": "code",
   "execution_count": null,
   "id": "0e60ba9c-79bd-428b-9b50-542c6f2f0715",
   "metadata": {},
   "outputs": [],
   "source": []
  }
 ],
 "metadata": {
  "kernelspec": {
   "display_name": "Julia 1.9.4",
   "language": "julia",
   "name": "julia-1.9"
  },
  "language_info": {
   "file_extension": ".jl",
   "mimetype": "application/julia",
   "name": "julia",
   "version": "1.9.4"
  }
 },
 "nbformat": 4,
 "nbformat_minor": 5
}
