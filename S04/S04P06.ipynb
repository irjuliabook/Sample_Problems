{
 "cells": [
  {
   "cell_type": "code",
   "execution_count": 1,
   "id": "5419c6c1-e05f-41a4-b139-022024df9f59",
   "metadata": {},
   "outputs": [],
   "source": [
    "x = 12.34;"
   ]
  },
  {
   "cell_type": "code",
   "execution_count": 2,
   "id": "26d0eda5-afb7-4bc4-96b5-4802a80f6b36",
   "metadata": {},
   "outputs": [
    {
     "name": "stdout",
     "output_type": "stream",
     "text": [
      "ceil is 13.0 type is Float64\n",
      "floor is 12.0 type is Float64\n"
     ]
    }
   ],
   "source": [
    "println(\"ceil is \",ceil(x), \" type is \", typeof(ceil(x)));\n",
    "println(\"floor is \",floor(x), \" type is \", typeof(floor(x)));"
   ]
  },
  {
   "cell_type": "code",
   "execution_count": 3,
   "id": "0d69809b-14dd-4829-9996-7bbbdc91d28f",
   "metadata": {},
   "outputs": [
    {
     "name": "stdout",
     "output_type": "stream",
     "text": [
      "trunc is 12.0 type is Float64\n"
     ]
    }
   ],
   "source": [
    "println(\"trunc is \",trunc(x), \" type is \", typeof(trunc(x)));"
   ]
  },
  {
   "cell_type": "code",
   "execution_count": null,
   "id": "6c891eec-4181-4de6-ba6c-735c49347a92",
   "metadata": {},
   "outputs": [],
   "source": []
  }
 ],
 "metadata": {
  "kernelspec": {
   "display_name": "Julia 1.9.4",
   "language": "julia",
   "name": "julia-1.9"
  },
  "language_info": {
   "file_extension": ".jl",
   "mimetype": "application/julia",
   "name": "julia",
   "version": "1.9.4"
  }
 },
 "nbformat": 4,
 "nbformat_minor": 5
}
