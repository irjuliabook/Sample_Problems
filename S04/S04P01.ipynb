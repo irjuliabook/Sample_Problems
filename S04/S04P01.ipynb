{
 "cells": [
  {
   "cell_type": "code",
   "execution_count": 1,
   "id": "31e95bf9-4cc6-45c8-9d1f-15453ddc7794",
   "metadata": {},
   "outputs": [],
   "source": [
    "x = 125;\n",
    "y = 17;"
   ]
  },
  {
   "cell_type": "code",
   "execution_count": 2,
   "id": "c5b4c820-343a-4a7d-9f9f-dd0555818ff7",
   "metadata": {},
   "outputs": [],
   "source": [
    "A = div(x,y);\n",
    "B = rem(x,y);"
   ]
  },
  {
   "cell_type": "code",
   "execution_count": 3,
   "id": "ead5fb3a-7547-46e8-ada7-b2a2a592d7f5",
   "metadata": {},
   "outputs": [
    {
     "name": "stdout",
     "output_type": "stream",
     "text": [
      "remain: 6\n",
      "quotient: 7\n"
     ]
    }
   ],
   "source": [
    "println(\"remain: \", B);\n",
    "println(\"quotient: \", A);"
   ]
  },
  {
   "cell_type": "code",
   "execution_count": null,
   "id": "d241a579-11c2-4b97-a426-711bbab05c97",
   "metadata": {},
   "outputs": [],
   "source": []
  }
 ],
 "metadata": {
  "kernelspec": {
   "display_name": "Julia 1.9.4",
   "language": "julia",
   "name": "julia-1.9"
  },
  "language_info": {
   "file_extension": ".jl",
   "mimetype": "application/julia",
   "name": "julia",
   "version": "1.9.4"
  }
 },
 "nbformat": 4,
 "nbformat_minor": 5
}
