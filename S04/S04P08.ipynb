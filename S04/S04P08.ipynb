{
 "cells": [
  {
   "cell_type": "code",
   "execution_count": 1,
   "id": "ec6bb582-52c5-48a6-8645-2789ecb3a74b",
   "metadata": {},
   "outputs": [],
   "source": [
    "x = 12; y = 42; z = 246;"
   ]
  },
  {
   "cell_type": "code",
   "execution_count": 2,
   "id": "8ddcb1e5-f8df-4004-8aed-2639678cc607",
   "metadata": {},
   "outputs": [],
   "source": [
    "GCD = gcd(x,y,z);\n",
    "LCM = lcm(x,y,z);"
   ]
  },
  {
   "cell_type": "code",
   "execution_count": 3,
   "id": "e33fcccb-4eeb-4e78-acb5-a00614b6d568",
   "metadata": {},
   "outputs": [
    {
     "name": "stdout",
     "output_type": "stream",
     "text": [
      "gcd is 6\n",
      "lcm is 3444\n"
     ]
    }
   ],
   "source": [
    "println(\"gcd is \", GCD);\n",
    "println(\"lcm is \", LCM);"
   ]
  },
  {
   "cell_type": "code",
   "execution_count": null,
   "id": "3e751a37-b54d-4c58-a8bf-2146ece2f5f9",
   "metadata": {},
   "outputs": [],
   "source": []
  }
 ],
 "metadata": {
  "kernelspec": {
   "display_name": "Julia 1.9.4",
   "language": "julia",
   "name": "julia-1.9"
  },
  "language_info": {
   "file_extension": ".jl",
   "mimetype": "application/julia",
   "name": "julia",
   "version": "1.9.4"
  }
 },
 "nbformat": 4,
 "nbformat_minor": 5
}
