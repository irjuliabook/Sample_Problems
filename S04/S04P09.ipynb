{
 "cells": [
  {
   "cell_type": "code",
   "execution_count": 1,
   "id": "a7d51a04-8279-4de6-aeb2-e93e8b3c2dd1",
   "metadata": {},
   "outputs": [
    {
     "data": {
      "text/plain": [
       "4"
      ]
     },
     "execution_count": 1,
     "metadata": {},
     "output_type": "execute_result"
    }
   ],
   "source": [
    "n = 1264;\n",
    "n1 = n%10"
   ]
  },
  {
   "cell_type": "code",
   "execution_count": 2,
   "id": "93d621a2-4458-4042-9acf-806f24df62ad",
   "metadata": {},
   "outputs": [
    {
     "data": {
      "text/plain": [
       "126.0"
      ]
     },
     "execution_count": 2,
     "metadata": {},
     "output_type": "execute_result"
    }
   ],
   "source": [
    "n = (n-n1)/10"
   ]
  },
  {
   "cell_type": "code",
   "execution_count": 3,
   "id": "ce7873f7-b5e5-4730-9de7-0277729eabf1",
   "metadata": {},
   "outputs": [
    {
     "data": {
      "text/plain": [
       "6.0"
      ]
     },
     "execution_count": 3,
     "metadata": {},
     "output_type": "execute_result"
    }
   ],
   "source": [
    "n2 = n%10"
   ]
  },
  {
   "cell_type": "code",
   "execution_count": 4,
   "id": "94971234-ba63-4a23-a21a-0f756b197d02",
   "metadata": {},
   "outputs": [
    {
     "data": {
      "text/plain": [
       "12.0"
      ]
     },
     "execution_count": 4,
     "metadata": {},
     "output_type": "execute_result"
    }
   ],
   "source": [
    "n = (n-n2)/10"
   ]
  },
  {
   "cell_type": "code",
   "execution_count": null,
   "id": "9802fcdf-6527-439f-a95c-9b5636ea8117",
   "metadata": {},
   "outputs": [],
   "source": []
  }
 ],
 "metadata": {
  "kernelspec": {
   "display_name": "Julia 1.9.4",
   "language": "julia",
   "name": "julia-1.9"
  },
  "language_info": {
   "file_extension": ".jl",
   "mimetype": "application/julia",
   "name": "julia",
   "version": "1.9.4"
  }
 },
 "nbformat": 4,
 "nbformat_minor": 5
}
