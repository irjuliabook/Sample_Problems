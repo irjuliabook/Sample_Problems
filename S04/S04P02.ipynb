{
 "cells": [
  {
   "cell_type": "code",
   "execution_count": 4,
   "id": "f76784f3-baf0-4677-a8ea-65860c7e2f6b",
   "metadata": {},
   "outputs": [
    {
     "data": {
      "text/plain": [
       "(5, 0.1875, 2, true)"
      ]
     },
     "execution_count": 4,
     "metadata": {},
     "output_type": "execute_result"
    }
   ],
   "source": [
    "(23 ÷ 4, 16 \\ 3, 12 % 5, true || false)"
   ]
  },
  {
   "cell_type": "code",
   "execution_count": 5,
   "id": "8d15f986-ff1c-4f18-97ae-07d3544c4d91",
   "metadata": {},
   "outputs": [
    {
     "data": {
      "text/plain": [
       "(false, false, false, false)"
      ]
     },
     "execution_count": 5,
     "metadata": {},
     "output_type": "execute_result"
    }
   ],
   "source": [
    "(true && false, !true, !(true || false), !!(true && false))"
   ]
  },
  {
   "cell_type": "code",
   "execution_count": 6,
   "id": "a6605545-033c-42a2-aa7f-e7000cb11406",
   "metadata": {},
   "outputs": [
    {
     "data": {
      "text/plain": [
       "(true, true, false, true)"
      ]
     },
     "execution_count": 6,
     "metadata": {},
     "output_type": "execute_result"
    }
   ],
   "source": [
    "(5 >= 3, -12 <= -4, 3//4 >= 4//5 , 3 != 4)"
   ]
  },
  {
   "cell_type": "code",
   "execution_count": null,
   "id": "96345e39-3a00-424a-9793-703482ab1b0f",
   "metadata": {},
   "outputs": [],
   "source": []
  }
 ],
 "metadata": {
  "kernelspec": {
   "display_name": "Julia 1.9.4",
   "language": "julia",
   "name": "julia-1.9"
  },
  "language_info": {
   "file_extension": ".jl",
   "mimetype": "application/julia",
   "name": "julia",
   "version": "1.9.4"
  }
 },
 "nbformat": 4,
 "nbformat_minor": 5
}
