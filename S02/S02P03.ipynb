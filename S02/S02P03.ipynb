{
 "cells": [
  {
   "cell_type": "code",
   "execution_count": 1,
   "id": "9f703316-12f7-4e17-ba55-edbdeb300608",
   "metadata": {},
   "outputs": [],
   "source": [
    "Name = \"Ali\";\n",
    "LastName = \"Ahamdi\";"
   ]
  },
  {
   "cell_type": "code",
   "execution_count": 2,
   "id": "2c62b477-b593-47b6-8f33-5644f42d92ba",
   "metadata": {},
   "outputs": [
    {
     "name": "stdout",
     "output_type": "stream",
     "text": [
      "Name    Last Name\n",
      "Ali     Ahamdi\n"
     ]
    }
   ],
   "source": [
    "println(\"Name    Last Name\")\n",
    "println(Name,\"     \",LastName)"
   ]
  },
  {
   "cell_type": "code",
   "execution_count": null,
   "id": "044c42cf-5231-4ceb-a891-cd8931a36bc9",
   "metadata": {},
   "outputs": [],
   "source": []
  }
 ],
 "metadata": {
  "kernelspec": {
   "display_name": "Julia 1.9.4",
   "language": "julia",
   "name": "julia-1.9"
  },
  "language_info": {
   "file_extension": ".jl",
   "mimetype": "application/julia",
   "name": "julia",
   "version": "1.9.4"
  }
 },
 "nbformat": 4,
 "nbformat_minor": 5
}
