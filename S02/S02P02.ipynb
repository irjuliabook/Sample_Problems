{
 "cells": [
  {
   "cell_type": "code",
   "execution_count": 1,
   "id": "da6b630b-026f-4595-9b94-0216283b5ee1",
   "metadata": {},
   "outputs": [
    {
     "name": "stdout",
     "output_type": "stream",
     "text": [
      "Hello World! My name is Julia."
     ]
    }
   ],
   "source": [
    "print(\"Hello World! \")\n",
    "print(\"My name is Julia.\")"
   ]
  },
  {
   "cell_type": "code",
   "execution_count": null,
   "id": "c0bdcb29-a21e-4e4b-86eb-bbeb82f841e1",
   "metadata": {},
   "outputs": [],
   "source": []
  }
 ],
 "metadata": {
  "kernelspec": {
   "display_name": "Julia 1.9.4",
   "language": "julia",
   "name": "julia-1.9"
  },
  "language_info": {
   "file_extension": ".jl",
   "mimetype": "application/julia",
   "name": "julia",
   "version": "1.9.4"
  }
 },
 "nbformat": 4,
 "nbformat_minor": 5
}
