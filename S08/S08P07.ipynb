{
 "cells": [
  {
   "cell_type": "code",
   "execution_count": 13,
   "id": "25e5388a-a199-483d-ad4e-8952ea32ca6f",
   "metadata": {},
   "outputs": [],
   "source": [
    "f = open(\"C:\\\\Users\\\\asus\\\\Julia Book IR\\\\S08\\\\S08E07-TEXT-FILE.txt\", \"r\");"
   ]
  },
  {
   "cell_type": "code",
   "execution_count": 15,
   "id": "2dec452e-6ace-46f9-8bee-9648433e989e",
   "metadata": {},
   "outputs": [],
   "source": [
    "number = [];\n",
    "NUMBER = ['1','2','3','4','5','6','7','8','9','0'];\n",
    "result = \"\";"
   ]
  },
  {
   "cell_type": "code",
   "execution_count": 16,
   "id": "d904d444-4555-4923-9c9a-7a9dc18d18d4",
   "metadata": {},
   "outputs": [],
   "source": [
    "while eof(f) == false\n",
    "    ch = read(f,typeof('c'))\n",
    "    if ch in NUMBER\n",
    "        while ch in NUMBER\n",
    "            result = result * ch\n",
    "            ch = read(f,typeof('c'))\n",
    "        end\n",
    "    end\n",
    "end"
   ]
  },
  {
   "cell_type": "code",
   "execution_count": 17,
   "id": "0760715c-c212-47f6-9dc6-34d3f18c054f",
   "metadata": {},
   "outputs": [
    {
     "name": "stdout",
     "output_type": "stream",
     "text": [
      "15313"
     ]
    }
   ],
   "source": [
    "print(result)"
   ]
  },
  {
   "cell_type": "code",
   "execution_count": 18,
   "id": "38570345-2438-4e3a-9c3f-34d5e2fb567e",
   "metadata": {},
   "outputs": [],
   "source": [
    "close(f)"
   ]
  },
  {
   "cell_type": "code",
   "execution_count": null,
   "id": "c93bf2a4-3c88-4b67-9afc-3571abf73d47",
   "metadata": {},
   "outputs": [],
   "source": []
  }
 ],
 "metadata": {
  "kernelspec": {
   "display_name": "Julia 1.9.4",
   "language": "julia",
   "name": "julia-1.9"
  },
  "language_info": {
   "file_extension": ".jl",
   "mimetype": "application/julia",
   "name": "julia",
   "version": "1.9.4"
  }
 },
 "nbformat": 4,
 "nbformat_minor": 5
}
