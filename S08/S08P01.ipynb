{
 "cells": [
  {
   "cell_type": "code",
   "execution_count": 5,
   "id": "25e5388a-a199-483d-ad4e-8952ea32ca6f",
   "metadata": {},
   "outputs": [
    {
     "data": {
      "text/plain": [
       "IOStream(<file C:\\Users\\asus\\Julia Book IR\\S08\\S08E01-TEXT-FILE.txt>)"
      ]
     },
     "execution_count": 5,
     "metadata": {},
     "output_type": "execute_result"
    }
   ],
   "source": [
    "f = open(\"C:\\\\Users\\\\asus\\\\Julia Book IR\\\\S08\\\\S08E01-TEXT-FILE.txt\", \"r+\")"
   ]
  },
  {
   "cell_type": "code",
   "execution_count": 2,
   "id": "f3fda6eb-2315-4001-b80d-0919bdb7aa3d",
   "metadata": {},
   "outputs": [
    {
     "data": {
      "text/plain": [
       "\"In the name of God\\r\\n\\r\\nMy name is Ali. Today I want to tell you about a story ...\""
      ]
     },
     "execution_count": 2,
     "metadata": {},
     "output_type": "execute_result"
    }
   ],
   "source": [
    "Total = read(f,typeof(\"string\"))"
   ]
  },
  {
   "cell_type": "code",
   "execution_count": 3,
   "id": "56be010e-6948-449f-a61a-5597286f2aa8",
   "metadata": {},
   "outputs": [
    {
     "name": "stdout",
     "output_type": "stream",
     "text": [
      "In the name of God\n",
      "\n",
      "My name is Ali. Today I want to tell you about a story ..."
     ]
    }
   ],
   "source": [
    "print(Total)"
   ]
  },
  {
   "cell_type": "code",
   "execution_count": 6,
   "id": "d1853977-8e5b-4a6b-b839-7b56b090bfe4",
   "metadata": {},
   "outputs": [],
   "source": [
    "close(f)"
   ]
  },
  {
   "cell_type": "code",
   "execution_count": null,
   "id": "872b3a2c-e896-49fa-9a8f-ce5b3cae6a5d",
   "metadata": {},
   "outputs": [],
   "source": []
  }
 ],
 "metadata": {
  "kernelspec": {
   "display_name": "Julia 1.9.4",
   "language": "julia",
   "name": "julia-1.9"
  },
  "language_info": {
   "file_extension": ".jl",
   "mimetype": "application/julia",
   "name": "julia",
   "version": "1.9.4"
  }
 },
 "nbformat": 4,
 "nbformat_minor": 5
}
