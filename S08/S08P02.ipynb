{
 "cells": [
  {
   "cell_type": "code",
   "execution_count": 4,
   "id": "84c36cc3-1e5b-4f76-95a6-3020f5c74131",
   "metadata": {},
   "outputs": [
    {
     "data": {
      "text/plain": [
       "IOStream(<file C:\\Users\\asus\\Julia Book IR\\S08\\S08E01-TEXT-FILE.txt>)"
      ]
     },
     "execution_count": 4,
     "metadata": {},
     "output_type": "execute_result"
    }
   ],
   "source": [
    "f = open(\"C:\\\\Users\\\\asus\\\\Julia Book IR\\\\S08\\\\S08E01-TEXT-FILE.txt\", \"r+\")"
   ]
  },
  {
   "cell_type": "code",
   "execution_count": 2,
   "id": "3661c5f7-74bb-452e-9a0c-aa4e65106a0a",
   "metadata": {},
   "outputs": [
    {
     "data": {
      "text/plain": [
       "3-element Vector{String}:\n",
       " \"In the name of God\"\n",
       " \"\"\n",
       " \"My name is Ali. Today I want to tell you about a story ...\""
      ]
     },
     "execution_count": 2,
     "metadata": {},
     "output_type": "execute_result"
    }
   ],
   "source": [
    "Total = readlines(f)"
   ]
  },
  {
   "cell_type": "code",
   "execution_count": 3,
   "id": "c576c0a6-75a1-4eb5-ad67-78472bc69e17",
   "metadata": {},
   "outputs": [],
   "source": [
    "close(f)"
   ]
  },
  {
   "cell_type": "code",
   "execution_count": null,
   "id": "25a37d80-0c3c-438e-92fc-ea92ceb9253c",
   "metadata": {},
   "outputs": [],
   "source": []
  }
 ],
 "metadata": {
  "kernelspec": {
   "display_name": "Julia 1.9.4",
   "language": "julia",
   "name": "julia-1.9"
  },
  "language_info": {
   "file_extension": ".jl",
   "mimetype": "application/julia",
   "name": "julia",
   "version": "1.9.4"
  }
 },
 "nbformat": 4,
 "nbformat_minor": 5
}
