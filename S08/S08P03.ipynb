{
 "cells": [
  {
   "cell_type": "code",
   "execution_count": 1,
   "id": "25e5388a-a199-483d-ad4e-8952ea32ca6f",
   "metadata": {},
   "outputs": [],
   "source": [
    "f = open(\"C:\\\\Users\\\\asus\\\\Julia Book IR\\\\S08\\\\S08E01-TEXT-FILE.txt\", \"r+\");"
   ]
  },
  {
   "cell_type": "code",
   "execution_count": 2,
   "id": "58cb0c7c-e23b-4f62-af1b-3a0aa1612022",
   "metadata": {},
   "outputs": [
    {
     "name": "stdout",
     "output_type": "stream",
     "text": [
      "In the name of God\n",
      "\n",
      "My name is Ali. Today I want to tell you about a story ...\n"
     ]
    }
   ],
   "source": [
    "while eof(f) == false\n",
    "    println(readline(f))\n",
    "end"
   ]
  },
  {
   "cell_type": "code",
   "execution_count": 3,
   "id": "ff1b24dc-545f-41d0-b3c8-60004ae8dd50",
   "metadata": {},
   "outputs": [],
   "source": [
    "close(f)"
   ]
  },
  {
   "cell_type": "code",
   "execution_count": null,
   "id": "115d4ac5-4e26-4242-83f6-90e388171189",
   "metadata": {},
   "outputs": [],
   "source": []
  }
 ],
 "metadata": {
  "kernelspec": {
   "display_name": "Julia 1.9.4",
   "language": "julia",
   "name": "julia-1.9"
  },
  "language_info": {
   "file_extension": ".jl",
   "mimetype": "application/julia",
   "name": "julia",
   "version": "1.9.4"
  }
 },
 "nbformat": 4,
 "nbformat_minor": 5
}
