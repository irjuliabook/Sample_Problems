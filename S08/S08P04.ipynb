{
 "cells": [
  {
   "cell_type": "code",
   "execution_count": 15,
   "id": "25e5388a-a199-483d-ad4e-8952ea32ca6f",
   "metadata": {},
   "outputs": [],
   "source": [
    "f = open(\"C:\\\\Users\\\\asus\\\\Julia Book IR\\\\S08\\\\S08E04-TEXT-FILE.txt\", \"w+\");"
   ]
  },
  {
   "cell_type": "code",
   "execution_count": 11,
   "id": "b5f5d3b9-42d4-47c9-8645-2111e61a116d",
   "metadata": {},
   "outputs": [
    {
     "name": "stdin",
     "output_type": "stream",
     "text": [
      "stdin>  Ali\n"
     ]
    },
    {
     "data": {
      "text/plain": [
       "\"Ali\""
      ]
     },
     "execution_count": 11,
     "metadata": {},
     "output_type": "execute_result"
    }
   ],
   "source": [
    "Name = readline(stdin)"
   ]
  },
  {
   "cell_type": "code",
   "execution_count": 12,
   "id": "fb79a15c-0567-47e8-916a-a5f026dc53ad",
   "metadata": {},
   "outputs": [
    {
     "name": "stdin",
     "output_type": "stream",
     "text": [
      "stdin>  Mohammadi\n"
     ]
    },
    {
     "data": {
      "text/plain": [
       "\"Mohammadi\""
      ]
     },
     "execution_count": 12,
     "metadata": {},
     "output_type": "execute_result"
    }
   ],
   "source": [
    "LastName = readline(stdin)"
   ]
  },
  {
   "cell_type": "code",
   "execution_count": 13,
   "id": "c0edc32e-e583-45ac-82b1-a47d10dcbad0",
   "metadata": {},
   "outputs": [
    {
     "data": {
      "text/plain": [
       "13"
      ]
     },
     "execution_count": 13,
     "metadata": {},
     "output_type": "execute_result"
    }
   ],
   "source": [
    "write(f,\"$Name $LastName\")"
   ]
  },
  {
   "cell_type": "code",
   "execution_count": 14,
   "id": "8ddc50eb-d39f-4aaf-9e6a-5562f2d8d749",
   "metadata": {},
   "outputs": [],
   "source": [
    "close(f)"
   ]
  },
  {
   "cell_type": "code",
   "execution_count": null,
   "id": "75f01075-4a74-4694-bb82-9c3f62257b22",
   "metadata": {},
   "outputs": [],
   "source": []
  }
 ],
 "metadata": {
  "kernelspec": {
   "display_name": "Julia 1.9.4",
   "language": "julia",
   "name": "julia-1.9"
  },
  "language_info": {
   "file_extension": ".jl",
   "mimetype": "application/julia",
   "name": "julia",
   "version": "1.9.4"
  }
 },
 "nbformat": 4,
 "nbformat_minor": 5
}
