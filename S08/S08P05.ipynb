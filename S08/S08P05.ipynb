{
 "cells": [
  {
   "cell_type": "code",
   "execution_count": 1,
   "id": "4ae2d8ad-6a80-4056-afd9-f907efe0fa2d",
   "metadata": {},
   "outputs": [],
   "source": [
    "f = open(\"C:\\\\Users\\\\asus\\\\Julia Book IR\\\\S08\\\\S08E05-TEXT-FILE.txt\", \"r\");"
   ]
  },
  {
   "cell_type": "code",
   "execution_count": 2,
   "id": "82096127-735f-45b2-9a89-60f6758b6310",
   "metadata": {},
   "outputs": [],
   "source": [
    "count = 0;"
   ]
  },
  {
   "cell_type": "code",
   "execution_count": 3,
   "id": "79895cc2-f9e1-4598-9253-3ec9c419b6aa",
   "metadata": {},
   "outputs": [],
   "source": [
    "while eof(f) == false\n",
    "    ch = read(f, typeof('c'))\n",
    "    if ch == 'a'\n",
    "        count = count + 1\n",
    "    end\n",
    "end"
   ]
  },
  {
   "cell_type": "code",
   "execution_count": 4,
   "id": "60b2ecf0-5b1a-416f-aa7e-adeb6cf2e6e5",
   "metadata": {},
   "outputs": [
    {
     "name": "stdout",
     "output_type": "stream",
     "text": [
      "32"
     ]
    }
   ],
   "source": [
    "print(count)"
   ]
  },
  {
   "cell_type": "code",
   "execution_count": 6,
   "id": "36e44fe7-06cb-4915-95f5-94f441e23787",
   "metadata": {},
   "outputs": [],
   "source": [
    "close(f)"
   ]
  },
  {
   "cell_type": "code",
   "execution_count": null,
   "id": "d9033203-2ab0-49a7-8f00-10c07aeb68bc",
   "metadata": {},
   "outputs": [],
   "source": []
  }
 ],
 "metadata": {
  "kernelspec": {
   "display_name": "Julia 1.9.4",
   "language": "julia",
   "name": "julia-1.9"
  },
  "language_info": {
   "file_extension": ".jl",
   "mimetype": "application/julia",
   "name": "julia",
   "version": "1.9.4"
  }
 },
 "nbformat": 4,
 "nbformat_minor": 5
}
