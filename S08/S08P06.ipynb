{
 "cells": [
  {
   "cell_type": "code",
   "execution_count": 1,
   "id": "4ae2d8ad-6a80-4056-afd9-f907efe0fa2d",
   "metadata": {},
   "outputs": [],
   "source": [
    "f = open(\"C:\\\\Users\\\\asus\\\\Julia Book IR\\\\S08\\\\S08E05-TEXT-FILE.txt\", \"r\");"
   ]
  },
  {
   "cell_type": "code",
   "execution_count": 2,
   "id": "21727be9-6aa3-4b60-a824-39c44d90cb3a",
   "metadata": {},
   "outputs": [
    {
     "data": {
      "text/plain": [
       "1-element Vector{String}:\n",
       " \"Julia is a high-level, general-\" ⋯ 340 bytes ⋯ \"or ahead-of-time compilation).\""
      ]
     },
     "execution_count": 2,
     "metadata": {},
     "output_type": "execute_result"
    }
   ],
   "source": [
    "count = 0;\n",
    "Total = readlines(f);\n",
    "Str = \"Julia\";\n",
    "Total"
   ]
  },
  {
   "cell_type": "code",
   "execution_count": 3,
   "id": "8d6fcd11-b73e-4668-a0b9-f64a884a242b",
   "metadata": {},
   "outputs": [],
   "source": [
    "for v in Total\n",
    "    new_v = replace(v, Str => \"\")\n",
    "    repeat = (length(v) - length(new_v))/length(Str)\n",
    "    count = count + repeat\n",
    "end"
   ]
  },
  {
   "cell_type": "code",
   "execution_count": 4,
   "id": "2c83a983-8752-40b1-9a49-8db2e3b6fd82",
   "metadata": {},
   "outputs": [
    {
     "name": "stdout",
     "output_type": "stream",
     "text": [
      "Julia repeat 2.0 times."
     ]
    }
   ],
   "source": [
    "print(\"$Str repeat $count times.\")"
   ]
  },
  {
   "cell_type": "code",
   "execution_count": 5,
   "id": "9a803134-b9bd-4f5c-ac0a-6b8b7a295a3f",
   "metadata": {},
   "outputs": [],
   "source": [
    "close(f)"
   ]
  },
  {
   "cell_type": "code",
   "execution_count": null,
   "id": "5df62d12-1754-43f8-b865-746bbab6b3b9",
   "metadata": {},
   "outputs": [],
   "source": []
  }
 ],
 "metadata": {
  "kernelspec": {
   "display_name": "Julia 1.9.4",
   "language": "julia",
   "name": "julia-1.9"
  },
  "language_info": {
   "file_extension": ".jl",
   "mimetype": "application/julia",
   "name": "julia",
   "version": "1.9.4"
  }
 },
 "nbformat": 4,
 "nbformat_minor": 5
}
