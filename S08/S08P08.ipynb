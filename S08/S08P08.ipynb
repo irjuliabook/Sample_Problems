{
 "cells": [
  {
   "cell_type": "code",
   "execution_count": 1,
   "id": "4ae2d8ad-6a80-4056-afd9-f907efe0fa2d",
   "metadata": {},
   "outputs": [],
   "source": [
    "f = open(\"C:\\\\Users\\\\asus\\\\Julia Book IR\\\\S08\\\\S08E08-TEXT-FILE.txt\", \"r\");"
   ]
  },
  {
   "cell_type": "code",
   "execution_count": 3,
   "id": "d5c971b9-97ce-445a-af38-8af639addfd4",
   "metadata": {},
   "outputs": [],
   "source": [
    "number = [];\n",
    "NUMBER = ['1','2','3','4','5','6','7','8','9','0','.'];\n",
    "result = \"\";"
   ]
  },
  {
   "cell_type": "code",
   "execution_count": 4,
   "id": "532dd224-77ba-4757-a5ac-8021544af145",
   "metadata": {},
   "outputs": [],
   "source": [
    "while eof(f) == false\n",
    "    ch = read(f,typeof('c'))\n",
    "    if ch in NUMBER\n",
    "        while ch in NUMBER\n",
    "            result = result * ch\n",
    "            ch = read(f,typeof('c'))\n",
    "        end\n",
    "    end\n",
    "    if '.' in result\n",
    "        break\n",
    "    else\n",
    "        result = \"\"\n",
    "    end\n",
    "end"
   ]
  },
  {
   "cell_type": "code",
   "execution_count": 5,
   "id": "9a21b0ac-4c4d-46f4-b55c-e04b61f1827a",
   "metadata": {},
   "outputs": [
    {
     "name": "stdout",
     "output_type": "stream",
     "text": [
      "23.21314"
     ]
    }
   ],
   "source": [
    "print(result)"
   ]
  },
  {
   "cell_type": "code",
   "execution_count": null,
   "id": "f7018d20-606d-48f2-ad96-4d9333dea920",
   "metadata": {},
   "outputs": [],
   "source": []
  }
 ],
 "metadata": {
  "kernelspec": {
   "display_name": "Julia 1.9.4",
   "language": "julia",
   "name": "julia-1.9"
  },
  "language_info": {
   "file_extension": ".jl",
   "mimetype": "application/julia",
   "name": "julia",
   "version": "1.9.4"
  }
 },
 "nbformat": 4,
 "nbformat_minor": 5
}
